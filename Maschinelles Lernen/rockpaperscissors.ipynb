{
 "cells": [
  {
   "cell_type": "code",
   "execution_count": 23,
   "metadata": {},
   "outputs": [
    {
     "name": "stdout",
     "output_type": "stream",
     "text": [
      "Model accuracy: 1.0\n"
     ]
    }
   ],
   "source": [
    "import pandas as pd\n",
    "from sklearn.model_selection import train_test_split\n",
    "from sklearn.tree import DecisionTreeClassifier\n",
    "from sklearn.metrics import accuracy_score\n",
    "\n",
    "# Load the data\n",
    "file_path = 'rockpaperscissors.csv'\n",
    "data = pd.read_csv(file_path, delimiter=';')\n",
    "\n",
    "# Convert columns with numeric values but represented as strings to float\n",
    "# Replace commas with dots and convert to float\n",
    "for col in data.columns:\n",
    "    if col not in ['Valid', 'rock', 'paper', 'scissors']:\n",
    "        data[col] = data[col].str.replace(',', '.').astype(float)\n",
    "\n",
    "# Separate the features and the target variable\n",
    "X = data.drop(['rock', 'paper', 'scissors'], axis=1)\n",
    "y = data[['rock', 'paper', 'scissors']]\n",
    "\n",
    "# Drop also all Data where Rock Paper or Scissors are all zero\n",
    "X = data[(data['rock'] != 0) | (data['paper'] != 0) | (data['scissors'] != 0)]\n",
    "\n",
    "# Drop also in y all the rows where rock, paper and scissors are zero\n",
    "y = y[(y['rock'] != 0) | (y['paper'] != 0) | (y['scissors'] != 0)]\n",
    "\n",
    "# Split the data into training and testing sets\n",
    "X_train, X_test, y_train, y_test = train_test_split(X, y, test_size=0.2, random_state=42)\n",
    "\n",
    "# Initialize the Decision Tree Classifier\n",
    "clf = DecisionTreeClassifier(random_state=42)\n",
    "\n",
    "# Train the model\n",
    "clf.fit(X_train, y_train)\n",
    "\n",
    "# Predict on the test set\n",
    "y_pred = clf.predict(X_test)\n",
    "\n",
    "# Calculate the accuracy\n",
    "accuracy = accuracy_score(y_test, y_pred)\n",
    "print(f'Model accuracy: {accuracy}')\n"
   ]
  },
  {
   "cell_type": "code",
   "execution_count": 21,
   "metadata": {},
   "outputs": [
    {
     "data": {
      "text/plain": [
       "0.946843853820598"
      ]
     },
     "execution_count": 21,
     "metadata": {},
     "output_type": "execute_result"
    }
   ],
   "source": [
    "from sklearn.neural_network import MLPClassifier\n",
    "\n",
    "# Initialize the MLP Classifier\n",
    "mlp_clf = MLPClassifier(max_iter=100000, activation=\"tanh\", alpha=0.0001, hidden_layer_sizes=(500, 100), learning_rate=\"constant\", solver=\"adam\")\n",
    "\n",
    "# Train the model\n",
    "mlp_clf.fit(X_train, y_train)\n",
    "\n",
    "# Predict on the test set\n",
    "y_pred_mlp = mlp_clf.predict(X_test)\n",
    "\n",
    "# Calculate the accuracy\n",
    "accuracy_mlp = accuracy_score(y_test, y_pred_mlp)\n",
    "accuracy_mlp\n"
   ]
  },
  {
   "cell_type": "code",
   "execution_count": 15,
   "metadata": {},
   "outputs": [
    {
     "data": {
      "text/plain": [
       "({'activation': 'tanh',\n",
       "  'alpha': 0.0001,\n",
       "  'hidden_layer_sizes': (100, 100),\n",
       "  'learning_rate': 'constant',\n",
       "  'solver': 'adam'},\n",
       " 0.9136212624584718)"
      ]
     },
     "execution_count": 15,
     "metadata": {},
     "output_type": "execute_result"
    }
   ],
   "source": [
    "from sklearn.model_selection import GridSearchCV\n",
    "\n",
    "# Define a parameter grid to search for best parameters for the MLP\n",
    "parameter_space = {\n",
    "    'hidden_layer_sizes': [(50,), (100,), (50,50), (100, 100)],\n",
    "    'activation': ['tanh', 'relu'],\n",
    "    'solver': ['sgd', 'adam'],\n",
    "    'alpha': [0.0001, 0.05],\n",
    "    'learning_rate': ['constant','adaptive'],\n",
    "}\n",
    "\n",
    "# Create an MLP classifier\n",
    "mlp = MLPClassifier(max_iter=1000, random_state=42)\n",
    "\n",
    "# Create a GridSearchCV object\n",
    "clf = GridSearchCV(mlp, parameter_space, n_jobs=-1, cv=3)\n",
    "\n",
    "# Fit the model to the data\n",
    "clf.fit(X_train, y_train)\n",
    "\n",
    "# Best parameter set\n",
    "best_params = clf.best_params_\n",
    "\n",
    "# Predict on the test set\n",
    "y_pred_optimized = clf.predict(X_test)\n",
    "\n",
    "# Calculate the accuracy\n",
    "accuracy_optimized = accuracy_score(y_test, y_pred_optimized)\n",
    "best_params, accuracy_optimized"
   ]
  },
  {
   "cell_type": "code",
   "execution_count": null,
   "metadata": {},
   "outputs": [],
   "source": []
  }
 ],
 "metadata": {
  "kernelspec": {
   "display_name": "Python 3",
   "language": "python",
   "name": "python3"
  },
  "language_info": {
   "codemirror_mode": {
    "name": "ipython",
    "version": 3
   },
   "file_extension": ".py",
   "mimetype": "text/x-python",
   "name": "python",
   "nbconvert_exporter": "python",
   "pygments_lexer": "ipython3",
   "version": "3.11.5"
  }
 },
 "nbformat": 4,
 "nbformat_minor": 2
}
