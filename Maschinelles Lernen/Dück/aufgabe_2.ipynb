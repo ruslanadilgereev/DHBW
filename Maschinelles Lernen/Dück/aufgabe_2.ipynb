{
 "cells": [
  {
   "cell_type": "code",
   "execution_count": 73,
   "metadata": {},
   "outputs": [],
   "source": [
    "import numpy as np\n",
    "import pandas as pd\n",
    "import seaborn as sns\n",
    "from sklearn.linear_model import LogisticRegression\n",
    "from sklearn.metrics import accuracy_score, recall_score, f1_score\n",
    "from matplotlib import pyplot as plt"
   ]
  },
  {
   "cell_type": "code",
   "execution_count": 74,
   "metadata": {},
   "outputs": [],
   "source": [
    "# Data\n",
    "data_path = \"data/exam-iq.csv\"\n",
    "data = pd.read_csv(data_path)\n",
    "\n",
    "# Features\n",
    "X = data[[\"Hours\", \"IQ\"]]\n",
    "\n",
    "# Target\n",
    "y = data[\"Pass\"]\n",
    "\n"
   ]
  },
  {
   "cell_type": "code",
   "execution_count": 75,
   "metadata": {},
   "outputs": [
    {
     "data": {
      "text/plain": [
       "LogisticRegression()"
      ]
     },
     "execution_count": 75,
     "metadata": {},
     "output_type": "execute_result"
    }
   ],
   "source": [
    "# Create a logistic regression model with 4 Features and 1 Target\n",
    "model = LogisticRegression()\t\n",
    "model.fit(X, y)\n"
   ]
  },
  {
   "cell_type": "code",
   "execution_count": 76,
   "metadata": {},
   "outputs": [
    {
     "name": "stdout",
     "output_type": "stream",
     "text": [
      "Accuracy: 0.85\n",
      "Recall: 0.80\n",
      "F1: 0.84\n"
     ]
    }
   ],
   "source": [
    "# Show performance of Model\n",
    "model.score(X, y)\n",
    "\n",
    "# Show accuracy, recall and f1 score of the model\n",
    "y_pred = model.predict(X)\n",
    "acc = accuracy_score(y, y_pred)\n",
    "rec = recall_score(y, y_pred)\n",
    "f1 = f1_score(y, y_pred)\n",
    "\n",
    "# Print the scores with line\n",
    "print(f\"Accuracy: {acc:.2f}\")\n",
    "print(f\"Recall: {rec:.2f}\")\n",
    "print(f\"F1: {f1:.2f}\")\n"
   ]
  },
  {
   "cell_type": "code",
   "execution_count": 77,
   "metadata": {},
   "outputs": [
    {
     "data": {
      "image/png": "[encoded data removed]",
      "text/plain": [
       "<Figure size 432x288 with 1 Axes>"
      ]
     },
     "metadata": {
      "needs_background": "light"
     },
     "output_type": "display_data"
    }
   ],
   "source": [
    "# Decision Boundary of the model\n",
    "# Plot the decision boundary\n",
    "# Plot the data points\n",
    "# Colour the data points based on the target\n",
    "# Show the decision boundary\n",
    "# Show the plot\n",
    "\n",
    "sns.scatterplot(x='Hours', y='IQ', data=data, hue='Pass')\n",
    "x_min, x_max = X[\"Hours\"].min(), X[\"Hours\"].max()\n",
    "y_min, y_max = X[\"IQ\"].min(), X[\"IQ\"].max()\n",
    "xx, yy = np.meshgrid(np.linspace(x_min, x_max, 100), np.linspace(y_min, y_max, 100))  # Create a meshgrid\n",
    "Z = model.predict(np.c_[xx.ravel(), yy.ravel()])\n",
    "Z = Z.reshape(xx.shape)\n",
    "plt.contourf(xx, yy, Z, alpha=0.2)\n",
    "plt.show()\n"
   ]
  },
  {
   "cell_type": "code",
   "execution_count": null,
   "metadata": {},
   "outputs": [],
   "source": []
  }
 ],
 "metadata": {
  "kernelspec": {
   "display_name": "Python 3",
   "language": "python",
   "name": "python3"
  },
  "language_info": {
   "codemirror_mode": {
    "name": "ipython",
    "version": 3
   },
   "file_extension": ".py",
   "mimetype": "text/x-python",
   "name": "python",
   "nbconvert_exporter": "python",
   "pygments_lexer": "ipython3",
   "version": "3.9.7"
  }
 },
 "nbformat": 4,
 "nbformat_minor": 2
}
