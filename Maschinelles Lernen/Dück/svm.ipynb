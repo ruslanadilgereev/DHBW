{
 "cells": [
  {
   "cell_type": "code",
   "execution_count": null,
   "metadata": {},
   "outputs": [],
   "source": [
    "# Data\n",
    "import pandas as pd\n",
    "\n",
    "data_path = \"data/exam-iq.csv\"\n",
    "data = pd.read_csv(data_path)\n",
    "print(data.head())"
   ]
  },
  {
   "cell_type": "code",
   "execution_count": null,
   "metadata": {},
   "outputs": [],
   "source": [
    "from sklearn.svm import SVC \n",
    "import matplotlib.pyplot as plt\n",
    "import numpy as np\n",
    "\n",
    "# Features and target\n",
    "X = data.drop(columns=\"Pass\", axis=1)\n",
    "y = data[\"Pass\"]\n",
    "\n",
    "# Iterate over different values of C and y\n",
    "# For loop from 0 to 1 in 0.1 steps\n",
    "for i in range(1):\n",
    "    C = i + 1 / 10\n",
    "    \n",
    "    # SVC Model\n",
    "    model = SVC(kernel=\"linear\", C=C, gamma=1,random_state=42, probability=True)\n",
    "    model.fit(X, y)\n",
    "\n",
    "    # Plot the decision boundary\n",
    "    ax = plt.gca()\n",
    "    xlim = ax.get_xlim()\n",
    "    ylim = ax.get_ylim()\n",
    "    ax.scatter(X[\"Hours\"], X[\"IQ\"], c=y, cmap=\"viridis\")\n",
    "\n",
    "    x_min, x_max = X.iloc[:, 0].min() - 1, X.iloc[:, 0].max() + 1\n",
    "    y_min, y_max = X.iloc[:, 1].min() - 1, X.iloc[:, 1].max() + 1\n",
    "    xx, yy = np.meshgrid(np.arange(x_min, x_max, 0.01),\n",
    "                            np.arange(y_min, y_max, 0.01))\n",
    "\n",
    "    # Predict the class for each point in the meshgrid\n",
    "    Z = model.predict(np.c_[xx.ravel(), yy.ravel()])\n",
    "    Z = Z.reshape(xx.shape)\n",
    "\n",
    "    # Plot the decision boundary\n",
    "    ax.contourf(xx, yy, Z, alpha=0.8, cmap='winter', edgecolors='w')\n",
    "\n",
    "    # Show the plot\n",
    "    plt.show()\n"
   ]
  },
  {
   "cell_type": "code",
   "execution_count": null,
   "metadata": {},
   "outputs": [],
   "source": [
    "# SVM with RBF kernel\n",
    "# Iterate over different values of C\n",
    "# For loop from 0 to 1 in 0.1 steps\n",
    "for i in range(1):\n",
    "    C = i + 1 / 10\n",
    "    \n",
    "    # SVC Model\n",
    "    model = SVC(kernel=\"rbf\", C=C, gamma=C,random_state=42, probability=True)\n",
    "    model.fit(X, y)\n",
    "\n",
    "    # Plot the decision boundary\n",
    "    ax = plt.gca()\n",
    "    xlim = ax.get_xlim()\n",
    "    ylim = ax.get_ylim()\n",
    "    ax.scatter(X[\"Hours\"], X[\"IQ\"], c=y, cmap=\"viridis\")\n",
    "\n",
    "    x_min, x_max = X.iloc[:, 0].min() - 1, X.iloc[:, 0].max() + 1\n",
    "    y_min, y_max = X.iloc[:, 1].min() - 1, X.iloc[:, 1].max() + 1\n",
    "    xx, yy = np.meshgrid(np.arange(x_min, x_max, 0.01),\n",
    "                            np.arange(y_min, y_max, 0.01))\n",
    "\n",
    "    # Predict the class for each point in the meshgrid\n",
    "    Z = model.predict(np.c_[xx.ravel(), yy.ravel()])\n",
    "    Z = Z.reshape(xx.shape)\n",
    "\n",
    "    # Plot the decision boundary\n",
    "    ax.contourf(xx, yy, Z, alpha=0.8, cmap='winter', edgecolors='w')\n",
    "\n",
    "    # Show the plot\n",
    "    plt.show()"
   ]
  },
  {
   "cell_type": "code",
   "execution_count": 40,
   "metadata": {},
   "outputs": [
    {
     "data": {
      "text/plain": [
       "<matplotlib.axes._subplots.AxesSubplot at 0x2bf9cef5f70>"
      ]
     },
     "execution_count": 40,
     "metadata": {},
     "output_type": "execute_result"
    },
    {
     "data": {
      "image/png": "[encoded data removed]",
      "text/plain": [
       "<Figure size 640x480 with 1 Axes>"
      ]
     },
     "metadata": {},
     "output_type": "display_data"
    }
   ],
   "source": [
    "from mlxtend.plotting import plot_decision_regions\n",
    "import numpy as np\n",
    "from sklearn.svm import SVC\n",
    "from sklearn.model_selection import train_test_split\n",
    "from sklearn.metrics import accuracy_score\n",
    "import matplotlib.pyplot as plt\n",
    "\n",
    "# Features and target\n",
    "X = data.drop(columns=\"Pass\", axis=1)\n",
    "y = data[\"Pass\"]\n",
    "\n",
    "# Convert X to a numpy\n",
    "X = X.to_numpy()\n",
    "y = y.to_numpy()\n",
    "\n",
    "# Plot decision regions for one model\n",
    "#model = SVC(kernel=\"rbf\", C=10, gamma=0.015, random_state=42)\n",
    "# Pipeline with StandardScaler\n",
    "from sklearn.preprocessing import StandardScaler\n",
    "from sklearn.pipeline import make_pipeline\n",
    "model = make_pipeline(StandardScaler(), SVC(kernel=\"rbf\", C=10, gamma=0.055, random_state=42))\n",
    "model.fit(X, y)\n",
    "\n",
    "# Make predictions on the test set\n",
    "y_pred = model.predict(X)\n",
    "\n",
    "# Calculate the accuracy score\n",
    "accuracy = accuracy_score(y, y_pred)\n",
    "\n",
    "plot_decision_regions(X, y, clf=model, legend=2)\n"
   ]
  },
  {
   "cell_type": "code",
   "execution_count": null,
   "metadata": {},
   "outputs": [],
   "source": []
  }
 ],
 "metadata": {
  "kernelspec": {
   "display_name": "Python 3",
   "language": "python",
   "name": "python3"
  },
  "language_info": {
   "codemirror_mode": {
    "name": "ipython",
    "version": 3
   },
   "file_extension": ".py",
   "mimetype": "text/x-python",
   "name": "python",
   "nbconvert_exporter": "python",
   "pygments_lexer": "ipython3",
   "version": "3.8.18"
  }
 },
 "nbformat": 4,
 "nbformat_minor": 2
}
