{
 "cells": [
  {
   "cell_type": "markdown",
   "id": "4a624532",
   "metadata": {},
   "source": [
    "Im Rahmen des Moduls \"Maschinelles Lernen\" wurde dieses Juypter Notebook von Lisa Tawackoli und Ruslan Adilgereev entwickelt. Der Programmentwurf nutzt den Datensatz \"wbdc_5.csv\", welcher Daten aus der Bildanalyse aus Feinnadelbiopsien bei Brusttumoren enthält. Ziel ist es, präzise Modelle zur Klassifizierung von Brusttumoren in die Kategorien gutartig (benigne) und bösartig (maligne) zu entwickeln.\n",
    "\n",
    "Um dieses Ziel zu erreichen, werden verschiedene Machine-Learning Algorithmen eingesetzt, und in Bezug auf ihre Effektivität verglichen. Zu diesen Algorithmen gehören das Multilayer Perceptron (MLP), der Entscheidungsbaum (Decisiontree) und die Support Vector Machine (SVM). Es gilt zudem, die Lernergebnisse bezüglich der diskutierten Qualitätskriterien zu bewerten und die Modelle, sowie verschiedene Konfigurationen dieser, zur Optimierung des Ergebnisses vorzunehmen."
   ]
  },
  {
   "cell_type": "markdown",
   "id": "8342f82f",
   "metadata": {},
   "source": [
    "**1. Datenerfassung**"
   ]
  },
  {
   "cell_type": "code",
   "execution_count": 2,
   "id": "a23ee62e",
   "metadata": {},
   "outputs": [],
   "source": [
    "#Importieren der notwendigen Bibliotheken\n",
    "import numpy as np\n",
    "import pandas as pd\n",
    "import seaborn as sns\n",
    "import matplotlib.pyplot as plt\n",
    "from os import name"
   ]
  },
  {
   "cell_type": "markdown",
   "id": "ef0b62a9",
   "metadata": {},
   "source": [
    "Für die Verwendung der Algorithmen müssen die Daten in einem ersten Schritt entsprechend vorbereitet werden. Um zu wissen, welche Anpassungen in diesem Kontext vorgenommen werden müssen, wird der Datensatz eingelesen und sich zunächst ein Überblick über dessen Struktur verschafft."
   ]
  },
  {
   "cell_type": "code",
   "execution_count": 3,
   "id": "61b8a3e8",
   "metadata": {},
   "outputs": [
    {
     "data": {
      "text/html": [
       "<div>\n",
       "<style scoped>\n",
       "    .dataframe tbody tr th:only-of-type {\n",
       "        vertical-align: middle;\n",
       "    }\n",
       "\n",
       "    .dataframe tbody tr th {\n",
       "        vertical-align: top;\n",
       "    }\n",
       "\n",
       "    .dataframe thead th {\n",
       "        text-align: right;\n",
       "    }\n",
       "</style>\n",
       "<table border=\"1\" class=\"dataframe\">\n",
       "  <thead>\n",
       "    <tr style=\"text-align: right;\">\n",
       "      <th></th>\n",
       "      <th>ID</th>\n",
       "      <th>Diagnosis</th>\n",
       "      <th>radius1</th>\n",
       "      <th>texture1</th>\n",
       "      <th>perimeter1</th>\n",
       "      <th>area1</th>\n",
       "      <th>compactness1</th>\n",
       "      <th>concavity1</th>\n",
       "      <th>concave_points1</th>\n",
       "      <th>symmetry1</th>\n",
       "      <th>...</th>\n",
       "      <th>fractal_dimension2</th>\n",
       "      <th>radius3</th>\n",
       "      <th>texture3</th>\n",
       "      <th>perimeter3</th>\n",
       "      <th>area3</th>\n",
       "      <th>compactness3</th>\n",
       "      <th>concavity3</th>\n",
       "      <th>concave_points3</th>\n",
       "      <th>symmetry3</th>\n",
       "      <th>fractal_dimension3</th>\n",
       "    </tr>\n",
       "  </thead>\n",
       "  <tbody>\n",
       "    <tr>\n",
       "      <th>0</th>\n",
       "      <td>897374</td>\n",
       "      <td>B</td>\n",
       "      <td>12.30</td>\n",
       "      <td>19.02</td>\n",
       "      <td>77.88</td>\n",
       "      <td>464.4</td>\n",
       "      <td>0.04202</td>\n",
       "      <td>0.007756</td>\n",
       "      <td>0.008535</td>\n",
       "      <td>0.1539</td>\n",
       "      <td>...</td>\n",
       "      <td>0.002222</td>\n",
       "      <td>13.35</td>\n",
       "      <td>28.46</td>\n",
       "      <td>84.53</td>\n",
       "      <td>544.3</td>\n",
       "      <td>0.09052</td>\n",
       "      <td>0.03619</td>\n",
       "      <td>0.03983</td>\n",
       "      <td>0.2554</td>\n",
       "      <td>0.07207</td>\n",
       "    </tr>\n",
       "    <tr>\n",
       "      <th>1</th>\n",
       "      <td>8910251</td>\n",
       "      <td>B</td>\n",
       "      <td>10.60</td>\n",
       "      <td>18.95</td>\n",
       "      <td>69.28</td>\n",
       "      <td>346.4</td>\n",
       "      <td>0.11470</td>\n",
       "      <td>0.063870</td>\n",
       "      <td>0.026420</td>\n",
       "      <td>0.1922</td>\n",
       "      <td>...</td>\n",
       "      <td>0.003318</td>\n",
       "      <td>11.88</td>\n",
       "      <td>22.94</td>\n",
       "      <td>78.28</td>\n",
       "      <td>424.8</td>\n",
       "      <td>0.25150</td>\n",
       "      <td>0.19160</td>\n",
       "      <td>0.07926</td>\n",
       "      <td>0.2940</td>\n",
       "      <td>0.07587</td>\n",
       "    </tr>\n",
       "    <tr>\n",
       "      <th>2</th>\n",
       "      <td>854941</td>\n",
       "      <td>B</td>\n",
       "      <td>13.03</td>\n",
       "      <td>18.42</td>\n",
       "      <td>82.61</td>\n",
       "      <td>523.8</td>\n",
       "      <td>0.03766</td>\n",
       "      <td>0.025620</td>\n",
       "      <td>0.029230</td>\n",
       "      <td>0.1467</td>\n",
       "      <td>...</td>\n",
       "      <td>0.001777</td>\n",
       "      <td>13.30</td>\n",
       "      <td>22.81</td>\n",
       "      <td>84.46</td>\n",
       "      <td>545.9</td>\n",
       "      <td>0.04619</td>\n",
       "      <td>0.04833</td>\n",
       "      <td>0.05013</td>\n",
       "      <td>0.1987</td>\n",
       "      <td>0.06169</td>\n",
       "    </tr>\n",
       "    <tr>\n",
       "      <th>3</th>\n",
       "      <td>89869</td>\n",
       "      <td>B</td>\n",
       "      <td>14.76</td>\n",
       "      <td>14.74</td>\n",
       "      <td>94.87</td>\n",
       "      <td>668.7</td>\n",
       "      <td>0.07780</td>\n",
       "      <td>0.046080</td>\n",
       "      <td>0.035280</td>\n",
       "      <td>0.1521</td>\n",
       "      <td>...</td>\n",
       "      <td>0.002783</td>\n",
       "      <td>17.27</td>\n",
       "      <td>17.93</td>\n",
       "      <td>114.20</td>\n",
       "      <td>880.8</td>\n",
       "      <td>0.20090</td>\n",
       "      <td>0.21510</td>\n",
       "      <td>0.12510</td>\n",
       "      <td>0.3109</td>\n",
       "      <td>0.08187</td>\n",
       "    </tr>\n",
       "    <tr>\n",
       "      <th>4</th>\n",
       "      <td>9113538</td>\n",
       "      <td>M</td>\n",
       "      <td>17.60</td>\n",
       "      <td>23.33</td>\n",
       "      <td>119.00</td>\n",
       "      <td>980.5</td>\n",
       "      <td>0.20040</td>\n",
       "      <td>0.213600</td>\n",
       "      <td>0.100200</td>\n",
       "      <td>0.1696</td>\n",
       "      <td>...</td>\n",
       "      <td>0.011300</td>\n",
       "      <td>21.57</td>\n",
       "      <td>28.87</td>\n",
       "      <td>143.60</td>\n",
       "      <td>1437.0</td>\n",
       "      <td>0.47850</td>\n",
       "      <td>0.51650</td>\n",
       "      <td>0.19960</td>\n",
       "      <td>0.2301</td>\n",
       "      <td>0.12240</td>\n",
       "    </tr>\n",
       "  </tbody>\n",
       "</table>\n",
       "<p>5 rows × 29 columns</p>\n",
       "</div>"
      ],
      "text/plain": [
       "        ID Diagnosis  radius1  texture1  perimeter1  area1  compactness1  \\\n",
       "0   897374         B    12.30     19.02       77.88  464.4       0.04202   \n",
       "1  8910251         B    10.60     18.95       69.28  346.4       0.11470   \n",
       "2   854941         B    13.03     18.42       82.61  523.8       0.03766   \n",
       "3    89869         B    14.76     14.74       94.87  668.7       0.07780   \n",
       "4  9113538         M    17.60     23.33      119.00  980.5       0.20040   \n",
       "\n",
       "   concavity1  concave_points1  symmetry1  ...  fractal_dimension2  radius3  \\\n",
       "0    0.007756         0.008535     0.1539  ...            0.002222    13.35   \n",
       "1    0.063870         0.026420     0.1922  ...            0.003318    11.88   \n",
       "2    0.025620         0.029230     0.1467  ...            0.001777    13.30   \n",
       "3    0.046080         0.035280     0.1521  ...            0.002783    17.27   \n",
       "4    0.213600         0.100200     0.1696  ...            0.011300    21.57   \n",
       "\n",
       "   texture3  perimeter3   area3  compactness3  concavity3  concave_points3  \\\n",
       "0     28.46       84.53   544.3       0.09052     0.03619          0.03983   \n",
       "1     22.94       78.28   424.8       0.25150     0.19160          0.07926   \n",
       "2     22.81       84.46   545.9       0.04619     0.04833          0.05013   \n",
       "3     17.93      114.20   880.8       0.20090     0.21510          0.12510   \n",
       "4     28.87      143.60  1437.0       0.47850     0.51650          0.19960   \n",
       "\n",
       "   symmetry3  fractal_dimension3  \n",
       "0     0.2554             0.07207  \n",
       "1     0.2940             0.07587  \n",
       "2     0.1987             0.06169  \n",
       "3     0.3109             0.08187  \n",
       "4     0.2301             0.12240  \n",
       "\n",
       "[5 rows x 29 columns]"
      ]
     },
     "execution_count": 3,
     "metadata": {},
     "output_type": "execute_result"
    }
   ],
   "source": [
    "#Laden des Datensatzes und die Ausgabe der ersten fünf Zeilen (Kopf) dessen\n",
    "data = pd.read_csv('wbdc_5.csv')  \n",
    "data.head()"
   ]
  },
  {
   "cell_type": "markdown",
   "id": "bb344846",
   "metadata": {},
   "source": [
    "Der Einblick in die ersten fünf Zeilen des Datensatzes verrät, dass er sich aus 29 Spalten zusammensetzt. Diese bestehen auf den ersten Blick, mit Ausnahme der ersten beiden Spalten \"ID\" und \"Diagnosis\", aus numerischen Daten. Da die Algorithmen numerische Daten benötigen, müssen kategorische Daten entsprechend umgewandelt werden. Um uns darüber zu vergewissern, dass diese beiden Spalten die einzigen kategorischen darstellen, lassen wir uns die benötigten Informationen ausgeben."
   ]
  },
  {
   "cell_type": "code",
   "execution_count": 4,
   "id": "a6de9a74",
   "metadata": {},
   "outputs": [
    {
     "name": "stdout",
     "output_type": "stream",
     "text": [
      "<class 'pandas.core.frame.DataFrame'>\n",
      "RangeIndex: 501 entries, 0 to 500\n",
      "Data columns (total 29 columns):\n",
      " #   Column              Non-Null Count  Dtype  \n",
      "---  ------              --------------  -----  \n",
      " 0   ID                  501 non-null    int64  \n",
      " 1   Diagnosis           501 non-null    object \n",
      " 2   radius1             501 non-null    float64\n",
      " 3   texture1            501 non-null    float64\n",
      " 4   perimeter1          501 non-null    float64\n",
      " 5   area1               501 non-null    float64\n",
      " 6   compactness1        501 non-null    float64\n",
      " 7   concavity1          501 non-null    float64\n",
      " 8   concave_points1     501 non-null    float64\n",
      " 9   symmetry1           501 non-null    float64\n",
      " 10  fractal_dimension1  501 non-null    float64\n",
      " 11  radius2             501 non-null    float64\n",
      " 12  texture2            501 non-null    float64\n",
      " 13  perimeter2          501 non-null    float64\n",
      " 14  area2               501 non-null    float64\n",
      " 15  compactness2        501 non-null    float64\n",
      " 16  concavity2          501 non-null    float64\n",
      " 17  concave_points2     501 non-null    float64\n",
      " 18  symmetry2           501 non-null    float64\n",
      " 19  fractal_dimension2  501 non-null    float64\n",
      " 20  radius3             501 non-null    float64\n",
      " 21  texture3            501 non-null    float64\n",
      " 22  perimeter3          501 non-null    float64\n",
      " 23  area3               501 non-null    float64\n",
      " 24  compactness3        501 non-null    float64\n",
      " 25  concavity3          501 non-null    float64\n",
      " 26  concave_points3     501 non-null    float64\n",
      " 27  symmetry3           501 non-null    float64\n",
      " 28  fractal_dimension3  501 non-null    float64\n",
      "dtypes: float64(27), int64(1), object(1)\n",
      "memory usage: 113.6+ KB\n"
     ]
    }
   ],
   "source": [
    "#Zusammenfassende Information über das DataFrame\n",
    "data.info() "
   ]
  },
  {
   "cell_type": "markdown",
   "id": "4404baab-e1ba-493a-b764-8f530dba5887",
   "metadata": {},
   "source": [
    "Diese Auskunft über den Datensatz vergewissert uns, dass er ausschließlich die zwei bereits genannten Spalten mit Daten kategorischer Art enthält. Der Count gibt uns außerdem Auskunft darüber, dass alle Felder des Datensatzes besetzt sind. Darauf basierend besteht die Annahme, dass es keine fehlenden Werte im Datensatz gibt. "
   ]
  },
  {
   "cell_type": "markdown",
   "id": "078bdaa3-c3ea-434c-a9d0-c96633a6923d",
   "metadata": {},
   "source": [
    "**2. Datenexploration und -vorverarbeitung**"
   ]
  },
  {
   "cell_type": "markdown",
   "id": "57d0c7d7-c8e9-4dda-a110-39fee8d01000",
   "metadata": {},
   "source": [
    "**2.1 Explorative Datenanalyse**"
   ]
  },
  {
   "cell_type": "code",
   "execution_count": 5,
   "id": "024607aa-68cb-4bc1-a42f-52e122da1a49",
   "metadata": {},
   "outputs": [
    {
     "data": {
      "text/html": [
       "<div>\n",
       "<style scoped>\n",
       "    .dataframe tbody tr th:only-of-type {\n",
       "        vertical-align: middle;\n",
       "    }\n",
       "\n",
       "    .dataframe tbody tr th {\n",
       "        vertical-align: top;\n",
       "    }\n",
       "\n",
       "    .dataframe thead th {\n",
       "        text-align: right;\n",
       "    }\n",
       "</style>\n",
       "<table border=\"1\" class=\"dataframe\">\n",
       "  <thead>\n",
       "    <tr style=\"text-align: right;\">\n",
       "      <th></th>\n",
       "      <th>ID</th>\n",
       "      <th>radius1</th>\n",
       "      <th>texture1</th>\n",
       "      <th>perimeter1</th>\n",
       "      <th>area1</th>\n",
       "      <th>compactness1</th>\n",
       "      <th>concavity1</th>\n",
       "      <th>concave_points1</th>\n",
       "      <th>symmetry1</th>\n",
       "      <th>fractal_dimension1</th>\n",
       "      <th>radius2</th>\n",
       "      <th>texture2</th>\n",
       "      <th>perimeter2</th>\n",
       "      <th>area2</th>\n",
       "      <th>compactness2</th>\n",
       "      <th>concavity2</th>\n",
       "      <th>concave_points2</th>\n",
       "      <th>symmetry2</th>\n",
       "      <th>fractal_dimension2</th>\n",
       "      <th>radius3</th>\n",
       "      <th>texture3</th>\n",
       "      <th>perimeter3</th>\n",
       "      <th>area3</th>\n",
       "      <th>compactness3</th>\n",
       "      <th>concavity3</th>\n",
       "      <th>concave_points3</th>\n",
       "      <th>symmetry3</th>\n",
       "      <th>fractal_dimension3</th>\n",
       "    </tr>\n",
       "  </thead>\n",
       "  <tbody>\n",
       "    <tr>\n",
       "      <th>count</th>\n",
       "      <td>5.010000e+02</td>\n",
       "      <td>501.000000</td>\n",
       "      <td>501.000000</td>\n",
       "      <td>501.000000</td>\n",
       "      <td>501.000000</td>\n",
       "      <td>501.000000</td>\n",
       "      <td>501.000000</td>\n",
       "      <td>501.000000</td>\n",
       "      <td>501.000000</td>\n",
       "      <td>501.000000</td>\n",
       "      <td>501.000000</td>\n",
       "      <td>501.000000</td>\n",
       "      <td>501.000000</td>\n",
       "      <td>501.000000</td>\n",
       "      <td>501.000000</td>\n",
       "      <td>501.000000</td>\n",
       "      <td>501.000000</td>\n",
       "      <td>501.000000</td>\n",
       "      <td>501.000000</td>\n",
       "      <td>501.000000</td>\n",
       "      <td>501.000000</td>\n",
       "      <td>501.000000</td>\n",
       "      <td>501.000000</td>\n",
       "      <td>501.000000</td>\n",
       "      <td>501.000000</td>\n",
       "      <td>501.000000</td>\n",
       "      <td>501.000000</td>\n",
       "      <td>501.000000</td>\n",
       "    </tr>\n",
       "    <tr>\n",
       "      <th>mean</th>\n",
       "      <td>3.054487e+07</td>\n",
       "      <td>14.209036</td>\n",
       "      <td>19.198802</td>\n",
       "      <td>92.478323</td>\n",
       "      <td>661.344311</td>\n",
       "      <td>0.103989</td>\n",
       "      <td>0.088399</td>\n",
       "      <td>0.049339</td>\n",
       "      <td>0.181232</td>\n",
       "      <td>0.062651</td>\n",
       "      <td>0.403946</td>\n",
       "      <td>1.217593</td>\n",
       "      <td>2.858572</td>\n",
       "      <td>40.160397</td>\n",
       "      <td>0.024842</td>\n",
       "      <td>0.031528</td>\n",
       "      <td>0.011855</td>\n",
       "      <td>0.020434</td>\n",
       "      <td>0.003703</td>\n",
       "      <td>16.353329</td>\n",
       "      <td>25.561178</td>\n",
       "      <td>107.724671</td>\n",
       "      <td>887.457285</td>\n",
       "      <td>0.250233</td>\n",
       "      <td>0.268624</td>\n",
       "      <td>0.115245</td>\n",
       "      <td>0.289081</td>\n",
       "      <td>0.083408</td>\n",
       "    </tr>\n",
       "    <tr>\n",
       "      <th>std</th>\n",
       "      <td>1.266249e+08</td>\n",
       "      <td>3.510540</td>\n",
       "      <td>4.301340</td>\n",
       "      <td>24.154774</td>\n",
       "      <td>349.835088</td>\n",
       "      <td>0.051752</td>\n",
       "      <td>0.078738</td>\n",
       "      <td>0.038679</td>\n",
       "      <td>0.027541</td>\n",
       "      <td>0.007043</td>\n",
       "      <td>0.268925</td>\n",
       "      <td>0.567992</td>\n",
       "      <td>1.970236</td>\n",
       "      <td>41.803163</td>\n",
       "      <td>0.016850</td>\n",
       "      <td>0.030857</td>\n",
       "      <td>0.006252</td>\n",
       "      <td>0.008390</td>\n",
       "      <td>0.002466</td>\n",
       "      <td>4.789774</td>\n",
       "      <td>6.138863</td>\n",
       "      <td>33.187148</td>\n",
       "      <td>560.583121</td>\n",
       "      <td>0.148550</td>\n",
       "      <td>0.200673</td>\n",
       "      <td>0.065013</td>\n",
       "      <td>0.060569</td>\n",
       "      <td>0.017668</td>\n",
       "    </tr>\n",
       "    <tr>\n",
       "      <th>min</th>\n",
       "      <td>8.670000e+03</td>\n",
       "      <td>6.981000</td>\n",
       "      <td>9.710000</td>\n",
       "      <td>43.790000</td>\n",
       "      <td>143.500000</td>\n",
       "      <td>0.019380</td>\n",
       "      <td>0.000000</td>\n",
       "      <td>0.000000</td>\n",
       "      <td>0.106000</td>\n",
       "      <td>0.049960</td>\n",
       "      <td>0.111500</td>\n",
       "      <td>0.360200</td>\n",
       "      <td>0.757000</td>\n",
       "      <td>6.802000</td>\n",
       "      <td>0.002252</td>\n",
       "      <td>0.000000</td>\n",
       "      <td>0.000000</td>\n",
       "      <td>0.007882</td>\n",
       "      <td>0.000895</td>\n",
       "      <td>7.930000</td>\n",
       "      <td>12.020000</td>\n",
       "      <td>50.410000</td>\n",
       "      <td>185.200000</td>\n",
       "      <td>0.027290</td>\n",
       "      <td>0.000000</td>\n",
       "      <td>0.000000</td>\n",
       "      <td>0.156500</td>\n",
       "      <td>0.055040</td>\n",
       "    </tr>\n",
       "    <tr>\n",
       "      <th>25%</th>\n",
       "      <td>8.694760e+05</td>\n",
       "      <td>11.760000</td>\n",
       "      <td>16.150000</td>\n",
       "      <td>76.090000</td>\n",
       "      <td>427.300000</td>\n",
       "      <td>0.066300</td>\n",
       "      <td>0.029660</td>\n",
       "      <td>0.020540</td>\n",
       "      <td>0.162100</td>\n",
       "      <td>0.057680</td>\n",
       "      <td>0.233500</td>\n",
       "      <td>0.828200</td>\n",
       "      <td>1.602000</td>\n",
       "      <td>17.850000</td>\n",
       "      <td>0.013080</td>\n",
       "      <td>0.014820</td>\n",
       "      <td>0.007620</td>\n",
       "      <td>0.014880</td>\n",
       "      <td>0.002234</td>\n",
       "      <td>13.110000</td>\n",
       "      <td>20.980000</td>\n",
       "      <td>84.530000</td>\n",
       "      <td>523.400000</td>\n",
       "      <td>0.148200</td>\n",
       "      <td>0.114500</td>\n",
       "      <td>0.065280</td>\n",
       "      <td>0.248800</td>\n",
       "      <td>0.071470</td>\n",
       "    </tr>\n",
       "    <tr>\n",
       "      <th>50%</th>\n",
       "      <td>9.062900e+05</td>\n",
       "      <td>13.400000</td>\n",
       "      <td>18.800000</td>\n",
       "      <td>86.600000</td>\n",
       "      <td>553.500000</td>\n",
       "      <td>0.093620</td>\n",
       "      <td>0.061550</td>\n",
       "      <td>0.034000</td>\n",
       "      <td>0.178800</td>\n",
       "      <td>0.061400</td>\n",
       "      <td>0.324200</td>\n",
       "      <td>1.083000</td>\n",
       "      <td>2.281000</td>\n",
       "      <td>24.530000</td>\n",
       "      <td>0.020160</td>\n",
       "      <td>0.025440</td>\n",
       "      <td>0.011030</td>\n",
       "      <td>0.018570</td>\n",
       "      <td>0.003100</td>\n",
       "      <td>14.980000</td>\n",
       "      <td>25.230000</td>\n",
       "      <td>97.820000</td>\n",
       "      <td>688.600000</td>\n",
       "      <td>0.215600</td>\n",
       "      <td>0.228200</td>\n",
       "      <td>0.101200</td>\n",
       "      <td>0.281200</td>\n",
       "      <td>0.079870</td>\n",
       "    </tr>\n",
       "    <tr>\n",
       "      <th>75%</th>\n",
       "      <td>8.860702e+06</td>\n",
       "      <td>16.030000</td>\n",
       "      <td>21.680000</td>\n",
       "      <td>105.100000</td>\n",
       "      <td>797.800000</td>\n",
       "      <td>0.129900</td>\n",
       "      <td>0.127200</td>\n",
       "      <td>0.073640</td>\n",
       "      <td>0.195700</td>\n",
       "      <td>0.066000</td>\n",
       "      <td>0.476800</td>\n",
       "      <td>1.480000</td>\n",
       "      <td>3.384000</td>\n",
       "      <td>45.420000</td>\n",
       "      <td>0.031790</td>\n",
       "      <td>0.040170</td>\n",
       "      <td>0.014660</td>\n",
       "      <td>0.023080</td>\n",
       "      <td>0.004452</td>\n",
       "      <td>18.980000</td>\n",
       "      <td>29.430000</td>\n",
       "      <td>126.300000</td>\n",
       "      <td>1095.000000</td>\n",
       "      <td>0.337100</td>\n",
       "      <td>0.382900</td>\n",
       "      <td>0.160700</td>\n",
       "      <td>0.317900</td>\n",
       "      <td>0.091360</td>\n",
       "    </tr>\n",
       "    <tr>\n",
       "      <th>max</th>\n",
       "      <td>9.113205e+08</td>\n",
       "      <td>28.110000</td>\n",
       "      <td>39.280000</td>\n",
       "      <td>188.500000</td>\n",
       "      <td>2499.000000</td>\n",
       "      <td>0.345400</td>\n",
       "      <td>0.426800</td>\n",
       "      <td>0.201200</td>\n",
       "      <td>0.304000</td>\n",
       "      <td>0.097440</td>\n",
       "      <td>2.873000</td>\n",
       "      <td>4.885000</td>\n",
       "      <td>21.980000</td>\n",
       "      <td>525.600000</td>\n",
       "      <td>0.100600</td>\n",
       "      <td>0.396000</td>\n",
       "      <td>0.052790</td>\n",
       "      <td>0.078950</td>\n",
       "      <td>0.029840</td>\n",
       "      <td>33.130000</td>\n",
       "      <td>49.540000</td>\n",
       "      <td>229.300000</td>\n",
       "      <td>3432.000000</td>\n",
       "      <td>1.058000</td>\n",
       "      <td>1.252000</td>\n",
       "      <td>0.291000</td>\n",
       "      <td>0.663800</td>\n",
       "      <td>0.207500</td>\n",
       "    </tr>\n",
       "  </tbody>\n",
       "</table>\n",
       "</div>"
      ],
      "text/plain": [
       "                 ID     radius1    texture1  perimeter1        area1  \\\n",
       "count  5.010000e+02  501.000000  501.000000  501.000000   501.000000   \n",
       "mean   3.054487e+07   14.209036   19.198802   92.478323   661.344311   \n",
       "std    1.266249e+08    3.510540    4.301340   24.154774   349.835088   \n",
       "min    8.670000e+03    6.981000    9.710000   43.790000   143.500000   \n",
       "25%    8.694760e+05   11.760000   16.150000   76.090000   427.300000   \n",
       "50%    9.062900e+05   13.400000   18.800000   86.600000   553.500000   \n",
       "75%    8.860702e+06   16.030000   21.680000  105.100000   797.800000   \n",
       "max    9.113205e+08   28.110000   39.280000  188.500000  2499.000000   \n",
       "\n",
       "       compactness1  concavity1  concave_points1   symmetry1  \\\n",
       "count    501.000000  501.000000       501.000000  501.000000   \n",
       "mean       0.103989    0.088399         0.049339    0.181232   \n",
       "std        0.051752    0.078738         0.038679    0.027541   \n",
       "min        0.019380    0.000000         0.000000    0.106000   \n",
       "25%        0.066300    0.029660         0.020540    0.162100   \n",
       "50%        0.093620    0.061550         0.034000    0.178800   \n",
       "75%        0.129900    0.127200         0.073640    0.195700   \n",
       "max        0.345400    0.426800         0.201200    0.304000   \n",
       "\n",
       "       fractal_dimension1     radius2    texture2  perimeter2       area2  \\\n",
       "count          501.000000  501.000000  501.000000  501.000000  501.000000   \n",
       "mean             0.062651    0.403946    1.217593    2.858572   40.160397   \n",
       "std              0.007043    0.268925    0.567992    1.970236   41.803163   \n",
       "min              0.049960    0.111500    0.360200    0.757000    6.802000   \n",
       "25%              0.057680    0.233500    0.828200    1.602000   17.850000   \n",
       "50%              0.061400    0.324200    1.083000    2.281000   24.530000   \n",
       "75%              0.066000    0.476800    1.480000    3.384000   45.420000   \n",
       "max              0.097440    2.873000    4.885000   21.980000  525.600000   \n",
       "\n",
       "       compactness2  concavity2  concave_points2   symmetry2  \\\n",
       "count    501.000000  501.000000       501.000000  501.000000   \n",
       "mean       0.024842    0.031528         0.011855    0.020434   \n",
       "std        0.016850    0.030857         0.006252    0.008390   \n",
       "min        0.002252    0.000000         0.000000    0.007882   \n",
       "25%        0.013080    0.014820         0.007620    0.014880   \n",
       "50%        0.020160    0.025440         0.011030    0.018570   \n",
       "75%        0.031790    0.040170         0.014660    0.023080   \n",
       "max        0.100600    0.396000         0.052790    0.078950   \n",
       "\n",
       "       fractal_dimension2     radius3    texture3  perimeter3        area3  \\\n",
       "count          501.000000  501.000000  501.000000  501.000000   501.000000   \n",
       "mean             0.003703   16.353329   25.561178  107.724671   887.457285   \n",
       "std              0.002466    4.789774    6.138863   33.187148   560.583121   \n",
       "min              0.000895    7.930000   12.020000   50.410000   185.200000   \n",
       "25%              0.002234   13.110000   20.980000   84.530000   523.400000   \n",
       "50%              0.003100   14.980000   25.230000   97.820000   688.600000   \n",
       "75%              0.004452   18.980000   29.430000  126.300000  1095.000000   \n",
       "max              0.029840   33.130000   49.540000  229.300000  3432.000000   \n",
       "\n",
       "       compactness3  concavity3  concave_points3   symmetry3  \\\n",
       "count    501.000000  501.000000       501.000000  501.000000   \n",
       "mean       0.250233    0.268624         0.115245    0.289081   \n",
       "std        0.148550    0.200673         0.065013    0.060569   \n",
       "min        0.027290    0.000000         0.000000    0.156500   \n",
       "25%        0.148200    0.114500         0.065280    0.248800   \n",
       "50%        0.215600    0.228200         0.101200    0.281200   \n",
       "75%        0.337100    0.382900         0.160700    0.317900   \n",
       "max        1.058000    1.252000         0.291000    0.663800   \n",
       "\n",
       "       fractal_dimension3  \n",
       "count          501.000000  \n",
       "mean             0.083408  \n",
       "std              0.017668  \n",
       "min              0.055040  \n",
       "25%              0.071470  \n",
       "50%              0.079870  \n",
       "75%              0.091360  \n",
       "max              0.207500  "
      ]
     },
     "execution_count": 5,
     "metadata": {},
     "output_type": "execute_result"
    }
   ],
   "source": [
    "#Ausgeben einer deskriptiven Statistik zum Datensatz, um ein Gefühl für Tendenzen und Streuungen zu bekommen\n",
    "pd.set_option('display.max_columns', None)\n",
    "data.describe()"
   ]
  },
  {
   "cell_type": "markdown",
   "id": "581a0128-96e1-4c19-8433-f3d02da80f9a",
   "metadata": {},
   "source": [
    "Die deskriptive Statistik lässt vermuten, dass die Werte unterschiedlich skaliert sind. Während beispielsweise die Werte von \"area1\" im Bereich von Tausenden liegen, weisen \"concavity1\" oder \"fractal dimension\" Werte nahe Null auf. Eine Skalierung der Daten wäre daher im weiteren Vorgehen sinnvoll. \n",
    "\n",
    "Was bei näherer Betrachtung ebenfalls auffällt ist, dass ein Datensatz, der in der Variable \"concavity1\" den Wert 0 hat, ebenfalls einen Wert von 0 für die Variable \"concave_points_1\" hat. Da die beiden Variablen auch einen ähnlichen Namen habe besteht die Vermutung, dass diese Variablen möglicherweise dieselben Merkmale repräsentieren. Auch auffällig ist, dass die Variablen, die die \"Concavity\" repäsentieren auf den ersten Blick die einzigen, die teilweise 0 zum Wert haben. \n",
    "\n",
    "Dass ein Großteil der Variablen einen großen Sprung zwischen den Werten im 75%-Quartil und dem Maximalwert aufweist, deutet außerdem auf Ausreißer hin.\n"
   ]
  },
  {
   "cell_type": "markdown",
   "id": "bb919d29-2940-4a60-8df9-ef9493845589",
   "metadata": {},
   "source": [
    "Da die Zielvariable in unserem Fall kategorisch ist (bösartig bzw. gutartig), bietet sich das Barplot (Balkendiagramm) an, die Verteilung zu visualisieren."
   ]
  },
  {
   "cell_type": "code",
   "execution_count": 6,
   "id": "a8de9919-0f9a-48a7-848a-4374a60cdc6d",
   "metadata": {},
   "outputs": [
    {
     "data": {
      "image/png": "[encoded data removed]",
      "text/plain": [
       "<Figure size 640x480 with 1 Axes>"
      ]
     },
     "metadata": {},
     "output_type": "display_data"
    }
   ],
   "source": [
    "# Erstellen eines Barplots für die Zielvariabe (Diagnose)\n",
    "sns.set_style(\"whitegrid\")\n",
    "sns.countplot(x='Diagnosis', data=data)\n",
    "plt.title('Verteilung der Diagnose')\n",
    "plt.xlabel('Diagnose')\n",
    "plt.ylabel('Anzahl')\n",
    "plt.show()"
   ]
  },
  {
   "cell_type": "code",
   "execution_count": 7,
   "id": "db339d5d-d9b6-45ab-8916-50b1183bbdd7",
   "metadata": {},
   "outputs": [
    {
     "data": {
      "text/plain": [
       "313"
      ]
     },
     "execution_count": 7,
     "metadata": {},
     "output_type": "execute_result"
    }
   ],
   "source": [
    "data.where(data[\"Diagnosis\"]==\"B\")[\"Diagnosis\"].count()"
   ]
  },
  {
   "cell_type": "markdown",
   "id": "3db80d41-dc74-4ced-a704-21b8122d64ad",
   "metadata": {},
   "source": [
    "Das Balkendiagramm zeigt, dass es eine ungleiche Verteilung der Klassen \"bösartig\" und \"gutartig\" gibt. Genauer gibt es von den 501 Diagnosen 313, bei denen ein gutartiger Tumor diagnostiziert wurde und somit 188 Diagnosen von bösartigen Tumoren. Basierend auf diesem Ungleichgewicht könnten einige Modelle dazu neigen, die dominante Klasse besser zu klassifizieren. Es ist daher besonders wichtig, für die Bewertung Leistungsmetriken zu wählen, die das Ungleichgewicht berücksichtigen. Dazu gehören die Precision, der Recall oder der F1-Score. "
   ]
  },
  {
   "cell_type": "markdown",
   "id": "0e5e143b-d907-4e65-8100-dc6d6a8e9693",
   "metadata": {},
   "source": [
    "**2.2 Datenbereinigung**"
   ]
  },
  {
   "cell_type": "markdown",
   "id": "74ae81ca",
   "metadata": {},
   "source": [
    "Der Gesamtüberblick vergewisserte uns in der Annahme, dass neben den Spalten \"ID\" und \"Diagnosis\" keine weiteren kategorischen Daten enthalten sind. Da die Spalte \"ID\" keine prädikative Information enthält, kann diese aus dem Datensatz entfernt werden."
   ]
  },
  {
   "cell_type": "code",
   "execution_count": 8,
   "id": "3936492b",
   "metadata": {},
   "outputs": [],
   "source": [
    "#Entfernen der ID Spalte, da keine prädikative Information\n",
    "data.drop('ID', axis=1, inplace=True) "
   ]
  },
  {
   "cell_type": "markdown",
   "id": "d93c2206",
   "metadata": {},
   "source": [
    "Nach dem Entfernen der Spalte \"ID\" bleibt als Spalte kategorischer Art die \"Diagnose\" übrig. Sie stellt die vorherzusagende Information dar. "
   ]
  },
  {
   "cell_type": "markdown",
   "id": "b4cc6e7c",
   "metadata": {},
   "source": [
    "Da fehlende Daten im Datensatz die Modellgenauigkeit reduzieren, zu Verzerrungen führen und die Komplexität der Datenverarbeitung erhöhen können, müssen diese im nächsten Schritt identifiziert und anschließend mithilfe geeigneter Methoden wie Imputation angepasst oder aus dem Datensatz entfernt werden (sofern der Anteil nicht zu groß ist). "
   ]
  },
  {
   "cell_type": "code",
   "execution_count": 9,
   "id": "de010912",
   "metadata": {},
   "outputs": [
    {
     "name": "stdout",
     "output_type": "stream",
     "text": [
      "Nas: 0\n",
      "Duplikate: 0\n"
     ]
    }
   ],
   "source": [
    "#Ausgabe der Anzahl von Duplikaten und NaN Werten\n",
    "duplicate_count = data.duplicated().sum()\n",
    "print(\"Nas:\", data.isna().sum().sum())\n",
    "print(\"Duplikate:\", duplicate_count)"
   ]
  },
  {
   "cell_type": "markdown",
   "id": "60b32575-c709-4678-a28d-6d77f86cf9e9",
   "metadata": {},
   "source": [
    "\n",
    "In unserem Datensatz haben wir festgestellt, dass Werte von 0 in den Spalten wie concavity nicht fehlerhaft sind, sondern tatsächlich valide Nullwerte repräsentieren, die auf das Fehlen von konkaven Einschnitten im Tumorgewebe hinweisen. Eine Imputation dieser Nullwerte oder deren Löschung würde zu einer Verzerrung der Ergebnisse führen, da solche Eingriffe fälschlicherweise die Charakteristika bösartiger Tumore einbringen könnten. Beispielsweise könnten imputierte Werte über 0 oder eine veränderte Verteilung durch Löschung der Nullwerte die Analyse beeinflussen. Eine Überprüfung dieser Annahme durch das Löschen von Zeilen mit einem concavity-Wert von 0 und anschließende Betrachtung der Datenverteilung ergab, dass Tumore mit concavity 0 durchweg gutartig waren. Daher haben wir beschlossen, keine Imputation oder Löschung dieser Nullwerte vorzunehmen, um die Integrität und Genauigkeit unserer Datenanalyse zu wahren."
   ]
  },
  {
   "cell_type": "markdown",
   "id": "706e2327-ff7f-45be-85fa-a8adf9c4c313",
   "metadata": {},
   "source": [
    "**2.3 Feature Engineering**"
   ]
  },
  {
   "cell_type": "markdown",
   "id": "63a6ed3b-99ab-49e7-8ac6-c0f623ecb833",
   "metadata": {},
   "source": [
    "Um kategorische Daten zu numerischen Daten umzuwandeln, wird das Label-Encoding angewandt. Diese Methode bietet sich insbesondere dadurch an, dass es nur zwei zu codierende Kategorien gibt (\"B\" und \"M\"), welche sich über 0 und 1 numerisch intuitiv darstellen lassen. Gegen die Alternative, das One-Hot Encoding, spricht, dass zwei separate Spalten und damit Redundanz erzeugt würden."
   ]
  },
  {
   "cell_type": "code",
   "execution_count": 10,
   "id": "48edbf99",
   "metadata": {},
   "outputs": [],
   "source": [
    "#Codieren der Diagnose mittels Label Encoding\n",
    "data[\"Diagnosis\"] = data[\"Diagnosis\"].map({\"B\": 0, \"M\":1})"
   ]
  },
  {
   "cell_type": "markdown",
   "id": "f7f2d2e9-701d-48f0-92a2-b3d50372b945",
   "metadata": {},
   "source": [
    "**2.4 Korrelationsmatrix**"
   ]
  },
  {
   "cell_type": "markdown",
   "id": "3fd9a9ef-bd55-4f86-990c-96fba39a3560",
   "metadata": {},
   "source": [
    "Eine Korrelationsmatrix zeigt, wie stark jedes Paar von Features miteinander in Beziehung steht. Eine hohe Korrelation (>0.7) zwischen zwei Features kann darauf hindeuten, dass sie redundante Informationen tragen, was **Multikollinearität** genannt wird und vermieden werden sollte."
   ]
  },
  {
   "cell_type": "code",
   "execution_count": 11,
   "id": "e88e6aac-1a0c-4118-afd9-ded7427a21d1",
   "metadata": {},
   "outputs": [
    {
     "data": {
      "image/png": "[encoded data removed]",
      "text/plain": [
       "<Figure size 1000x800 with 2 Axes>"
      ]
     },
     "metadata": {},
     "output_type": "display_data"
    }
   ],
   "source": [
    "correlation_matrix = data.corr()\n",
    "plt.figure(figsize=(10, 8))\n",
    "sns.heatmap(correlation_matrix, annot=True, cmap='coolwarm', linewidths=.5)\n",
    "plt.show()"
   ]
  },
  {
   "cell_type": "markdown",
   "id": "e4f9aba6-3083-4931-8772-0cd13a4ef70f",
   "metadata": {},
   "source": [
    "**Ergänzen oder Anpassen? Sagt meiner Meinung nach noch nichts aus. Mehr darauf eingehen**"
   ]
  },
  {
   "cell_type": "markdown",
   "id": "5f7fbc63",
   "metadata": {},
   "source": [
    "**2.5 Train-/ Test-Split**"
   ]
  },
  {
   "cell_type": "markdown",
   "id": "a551c184-7af9-4f1a-a6ad-7d1281e34699",
   "metadata": {},
   "source": [
    "Das Aufteilen der Daten in Trainings- und Testsets dient dazu, das  Modell mit einem Datensatz zu trainieren und die Leistung unabhängig mit einem anderen Datensatz zu bewerten. So kann das Modell auf Overfitting getestet werden und die Übertragbarkeit auf neue Daten sichergestellt werden. Da es sich bei der Diagnose um die zu vorhersagende Kennzahl handelt, wird diese als Zielvariable (y) gespeichert und aus den Features (X) entfernt."
   ]
  },
  {
   "cell_type": "code",
   "execution_count": 12,
   "id": "72eb183a-0c04-45d8-bc10-dea986346630",
   "metadata": {},
   "outputs": [],
   "source": [
    "from sklearn.model_selection import train_test_split \n",
    "\n",
    "#Aufteilen der Daten in Features(X) und die zu vorhersagende Zielvariable(y)\n",
    "X = data.drop(columns=['Diagnosis'])\n",
    "y = data['Diagnosis']\n",
    "\n",
    "# Aufteilen der Daten in Trainings- und Testdaten (80:20)\n",
    "X_train, X_test, y_train, y_test = train_test_split(X, y, test_size=0.2, random_state=42)"
   ]
  },
  {
   "cell_type": "markdown",
   "id": "a0105853-4292-4f2a-b3f3-8fd4ee196cbe",
   "metadata": {},
   "source": [
    "**2.6 Skalierung der Daten**"
   ]
  },
  {
   "cell_type": "markdown",
   "id": "4371c0c0-af84-4981-9e56-45c785db8139",
   "metadata": {},
   "source": [
    "Die meisten Machine-Learning-Algorithmen reagieren empfindlich auf die Skalierung der Eingabedaten. Der Grund hierfür ist, dass sie Distanzmetriken nutzen, um die Ähnlichkeit zwischen Datenpunkten zu berechnen. Wenn Merkmale also in unterschiedlichen Maßstäben vorliegen, beeinträchtigt das möglicherweise die Modellleistung, und Merkmale mit größeren Wertebereichen werden stärker gewichtet. Da im Rahmen der explorativen Datenanalyse auffiel, dass unsere Features in unterschiedlichen Wertebereichen liegen, muss hier entsprechend gehandelt werden. Hierfür wird ein sogenanntes Feature-Scaling in Form einer Standardisierung vorgenommen. Diese bietet sich insbesondere dann an, wenn Daten unterschiedliche Einheiten haben, oder die Algorithmen, wie in unserem Fall SVM und neuronale Netze, emfpindlich gegenüber der Varianz in den Daten reagieren. "
   ]
  },
  {
   "cell_type": "code",
   "execution_count": 13,
   "id": "821ed094-e2e9-40bd-b5a9-d0de02415425",
   "metadata": {},
   "outputs": [],
   "source": [
    "# Standardisierung des Datensatzes\n",
    "from sklearn.preprocessing import StandardScaler\n",
    "scaler = StandardScaler()\n",
    "X_train_scaled = scaler.fit_transform(X_train)\n",
    "X_test_scaled = scaler.transform(X_test)"
   ]
  },
  {
   "cell_type": "markdown",
   "id": "8e2a967a-8306-4e5c-aea8-47a29b116c6f",
   "metadata": {},
   "source": [
    "SVMs und neuronale Netz profitieren von einer Standardisierung mittels des StandardScalers. Dieser führt eine Z-Score-Normalisierung durch, welche die Daten so anpasst, dass die Standardabweichung jeder Feature-Spalte 1 und der Mittelwert 0 beträgt. "
   ]
  },
  {
   "cell_type": "code",
   "execution_count": 14,
   "id": "2ff94e9a-d88f-4496-9474-30e8b40be587",
   "metadata": {},
   "outputs": [],
   "source": [
    "# Normalisierung der Daten\n",
    "from sklearn.preprocessing import MinMaxScaler\n",
    "scaler = MinMaxScaler()\n",
    "X_train_minmax = scaler.fit_transform(X_train)\n",
    "X_test_minmax = scaler.transform(X_test)"
   ]
  },
  {
   "cell_type": "markdown",
   "id": "b7a69b6b-85f9-4842-aba5-e641c2039b6f",
   "metadata": {},
   "source": [
    "Eine weitere Möglichkeit, die Daten zu skalieren, besteht in der Min-Max-Skalierung. Während die Standardisierung den Mittelwert entfernt und die Daten auf Einheitsvarianz skaliert, skaliert die Min-Max-Skalierung die Daten auf einen festgelegten Bereich von üblicherweise 0 bis 1. "
   ]
  },
  {
   "cell_type": "markdown",
   "id": "1c645cf3",
   "metadata": {},
   "source": [
    "**3. Modellierung der Baseline Modelle**"
   ]
  },
  {
   "cell_type": "markdown",
   "id": "e77efb64-ce1f-4a88-8e43-969ed86f0382",
   "metadata": {},
   "source": [
    "Im ersten Schritt sollen sogenannte Baseline-Modelle trainiert und deren Ergebnisse evaluiert werden. Im anschließenden Abschnitt sollen die Modelle, je nach Ergebnis, entsprechend optimiert und die Maßnahmen diskutiert werden."
   ]
  },
  {
   "cell_type": "markdown",
   "id": "a8885e51",
   "metadata": {},
   "source": [
    "***2.1 Support Vector Machine***"
   ]
  },
  {
   "cell_type": "code",
   "execution_count": 15,
   "id": "f908fd03",
   "metadata": {},
   "outputs": [],
   "source": [
    "# Da für binäre Klassifikation ein linearer Kernel oft gut funktioniert, wird dieser verwendet\n",
    "from sklearn.svm import SVC\n",
    "svm_model = SVC(kernel='linear', random_state=42)\n",
    "svm_model.fit(X_train_scaled, y_train)\n",
    "predictions = svm_model.predict(X_test_scaled)"
   ]
  },
  {
   "cell_type": "code",
   "execution_count": 16,
   "id": "85143b8a",
   "metadata": {},
   "outputs": [
    {
     "name": "stdout",
     "output_type": "stream",
     "text": [
      "Accuracy: 0.9900990099009901\n",
      "              precision    recall  f1-score   support\n",
      "\n",
      "           0       1.00      0.98      0.99        62\n",
      "           1       0.97      1.00      0.99        39\n",
      "\n",
      "    accuracy                           0.99       101\n",
      "   macro avg       0.99      0.99      0.99       101\n",
      "weighted avg       0.99      0.99      0.99       101\n",
      "\n"
     ]
    }
   ],
   "source": [
    "# Auswertung des Modells\n",
    "from sklearn.metrics import classification_report, accuracy_score\n",
    "print(\"Accuracy:\", accuracy_score(y_test, predictions))\n",
    "print(classification_report(y_test, predictions))"
   ]
  },
  {
   "cell_type": "markdown",
   "id": "95cf0254",
   "metadata": {},
   "source": [
    "Die Accuracy misst den Anteil der insgesamt korrekt klassifizierten Fälle und ist mit einem Score von 0.99009(...) und sehr hoch. Das SVM Modell hat 99% der Fälle korrekt vorhergesagt. Die Precision  für die Klassifikation der gutartigen Tumore liegt bei 1,00, was bedeutet, dass alle vom Modell als gutartig klassifizierte Tumore tatsächlich gutartig sind. Für die Vorhersage der bösartigen Tumore liegt die Präzision bei 0.97, was bedeutet, dass 97% der Vorhersagen hier korrekt getroffen wurden. \n",
    "\n",
    "Der F1-Score ist eine verbreitete Bewertungsmetrik für binäre Klassifizierungsmodelle, die das eine den Recall und die Precision kombiniert. Der Wert kann zwischen 0 und 1 liegen, wobei ein Wert von 1 für eine perfekte Genauigkeit und Sensitivität steht,  und 0 für eine schlechte Performance in der Klassifikation. Der Wert von 0,99 weist somit auf eine sehr ausgewogene Klassifikationsleistung für gutartige Tumore hin."
   ]
  },
  {
   "cell_type": "markdown",
   "id": "5cc1ae58-4024-465d-b224-46cabf7ed7cb",
   "metadata": {},
   "source": [
    "Der Recall, die Sensitivität, ist insbesondere in der medizinischen Diagnostik eine relevante Kennzahl zur Bewertung unseres Modells. Er misst die Rate, der korrekt identifizierten positiven Fälle (in diesem Fall bösartige Tumore). Es wird ein hoher Recall angestrebt, um die Anzahl, falsch negativer Ergebnisse zu minimieren, durch die ein tatsächlich bösartiger Tumor übersehen werden könnte. Der Wert liegt im Falls unserer SVM für die Klassifizierung der gutartigen Tumore bei 0.98. Das bedeutet, dass 98% der tatsächlich gutartigen Fälle korrekt erkannt wurden. Für die Zuordnung der bösartigen Tumore liegt der Recall bei einem Wert von 1.00, was bedeutet, dass tatsächlich alle bösartigen Fälle korrekt erkannt wurden. \n",
    "\n",
    "Der Support zeigt die Anzahl der tatsächlichen Vorkommen in jeder Klasse im Testdatensatz, nämlich 62 gutartige und 39 bösartige Tumore. Der Macro-Avg gibt die durchschnittlichen, ungewichteten Werte für Präzision, Recall und F1-Score. Der Wert liegt bei 0.99, was bedeutet, dass das Modell im Durchschnitt über beide Klassen hinweg eine ausgezeichnete Leistung erbringt. Wenn die unterschiedlichen Größen der Klassen (Support) berücksichtigt werden (Weighted avg), liegt der Wert weiterhin bei 0.99 und weist somit eine ausgezeichnete Leistung auf."
   ]
  },
  {
   "cell_type": "markdown",
   "id": "c54900c4-bc70-42d3-a305-ba9d18015e07",
   "metadata": {},
   "source": [
    "Angesichts der Ungleichheit in der Verteilung der Diagnosen in unserem Datensatz, besteht ein Problem im Einsatz des F1-Scores als Bewertungsmetrik. Dieser neigt dazu, die Leistung des Modells in Bezug auf die überrepräsentierte Klasse, die der benignen Tumore, zu bevorzugen. Somit ergibt sich potenziell eine überoptimistische Sicht der tatsächlichen Modelleistung, wenn es darum geht die bösartigen Tumore zu identifizieren. Der Matthews-Korrelationskoeffizient (MCC) bietet eine geeignete Alternative, die ein umfassenderes Bild über die Modelleistung bietet, indem er alle Elemente der Konfusionsmatrix mit einbezieht. Ein hoher MCC in einem ungleichen Datensatz ist ein Indikator dafür, dass das Modell nicht nur die häufigere Klasse gut erkennt, sondern auch die weniger häufige."
   ]
  },
  {
   "cell_type": "code",
   "execution_count": 17,
   "id": "f4bde437",
   "metadata": {},
   "outputs": [
    {
     "name": "stdout",
     "output_type": "stream",
     "text": [
      "Matthews-Korrelationskoeffizient: 0.9794254405254067\n"
     ]
    }
   ],
   "source": [
    "from sklearn.metrics import matthews_corrcoef, roc_auc_score\n",
    "mcc = matthews_corrcoef(y_test, predictions)\n",
    "print(\"Matthews-Korrelationskoeffizient:\", mcc)"
   ]
  },
  {
   "cell_type": "markdown",
   "id": "21c93eeb-08c8-4c3f-be16-af419c78d0e0",
   "metadata": {},
   "source": [
    "Da der MCC Werte zwischen -1 und +1 annehmen kann, wobei eine -1 eine totale Diskrepanz zwischen Vorhersage tatsächlichen bedeutet und +1 eine perfekte Vorhersage darstellt, weist das Ergebnis mit einem Wert von 0.979 auf eine hervorragende Vorhersageleistung des Modells hin. Im Kontext des unausgewogenen Datensatzes ist der hohe MCC besonders bedeutsam, da er im Gegensatz zu anderen Metriken nicht durch die Klassenverteilung verzerrt wird.Die Ergebnisse suggerieren insgesamt, dass das SVM Modell bei der Klassifizierung außergewöhnlich gut abschneidet. Insbesondere bei einer so hohen Leistung ist es wichtig zu berücksichtigen, dass dies auch auf Overfitting zurückzuführen sein kann. Um das zu überprüfen, sollte das Ergebnis zusätzlich durch Kreuzvalidierung geprüft werden.\n",
    "\n",
    "Bei der Kreuzvalidierung wird der Datensatz in mehrere Teile aufgeteilt, wobei abwechselnd ein Teil zum Testen und die übrigen Teile zum Trainieren des Modells verwendet werden. Dies ermöglicht eine umfassendere Bewertung der Leistung der Modelle über verschiedene Datenpartitionen hinweg und hilft,  Overfitting zu erkennen. "
   ]
  },
  {
   "cell_type": "code",
   "execution_count": 18,
   "id": "704095cb-4253-4969-a5f0-2a166adeb69a",
   "metadata": {},
   "outputs": [
    {
     "name": "stdout",
     "output_type": "stream",
     "text": [
      "Accuracy average score: 0.975\n",
      "Präzision average score: 0.9859605911330049\n",
      "Recall average score: 0.945977011494253\n",
      "F1 average score: 0.9651283141172096\n"
     ]
    }
   ],
   "source": [
    "from sklearn.model_selection import StratifiedKFold, cross_val_score\n",
    "from sklearn.svm import SVC\n",
    "from sklearn.metrics import make_scorer, accuracy_score, precision_score, recall_score, f1_score\n",
    "\n",
    "#Erstellen des StratifiedKFold-Cross-Validators\n",
    "stratified_kfold = StratifiedKFold(n_splits=5, shuffle=True, random_state=42)\n",
    "\n",
    "# Definieren der Scoring-Metriken\n",
    "scoring_metrics = {\n",
    "    'Accuracy': make_scorer(accuracy_score),\n",
    "    'Präzision': make_scorer(precision_score),\n",
    "    'Recall': make_scorer(recall_score),\n",
    "    'F1': make_scorer(f1_score),\n",
    "}\n",
    "\n",
    "# Durchführung der Kreuzvalidierung und Speichern der Ergebnisse\n",
    "cross_val_results = {}\n",
    "for metric_name, metric in scoring_metrics.items():\n",
    "    cross_val_results[metric_name] = cross_val_score(svm_model, X_train_scaled, y_train, cv=stratified_kfold, scoring=metric)\n",
    "    \n",
    "# Anzeigen der durchschnittlichen Scores für jede Metrik\n",
    "for metric_name, score_array in cross_val_results.items():\n",
    "    print(f'{metric_name.capitalize()} average score: {score_array.mean()}')"
   ]
  },
  {
   "cell_type": "markdown",
   "id": "0e11ffee-0d48-4561-b136-99fa3a8738a3",
   "metadata": {},
   "source": [
    "Die Ergebnisse der Kreuzvalidierung stützen die Performance des Modells, das im Durchschnitt eine Accuracy von 97,5% erreicht, was eine hohe Zuverlässigkeit und Generalisierbarkeit widerspiegelt. Die Präzision von 98,6% signalisiert eine niedrige Rate von False Positives, während der Recall mit einem Wert von durchschnittlich 94,6% auf eine effektive Erkennung bösartiger Tumore hinweist. Die Ergebnisse belegen die Verlässlichkeit und Stabilität des Modells. Da die Metriken nach Kreuzvalidierung immernoch ähnlich hohe Werte aufweisen, kann ist ein Overfitting des Modells trotz der hervorragenden Ergebnisse mit hoher Wahrscheinlichkeit auszuschließen."
   ]
  },
  {
   "cell_type": "markdown",
   "id": "5690f151",
   "metadata": {},
   "source": [
    "**2.2 Multilayer Perceptron**"
   ]
  },
  {
   "cell_type": "markdown",
   "id": "6c6e32e4",
   "metadata": {},
   "source": [
    "Da das Multilayer Perceptron ebenfalls emfpindlich auf Feature-Skalierungen reagieren, werden dieselbe Datenaufteilung und -skalierung wie für die Support Vector Machine verwendet. Um im ersten Schritt die Architektur des Multilayer Perceptrons zu definieren, wurde zunächst eine Konfiguration mit zwei versteckten Schichten festgelegt, wobei die erste Schicht 100 Neuronen und die zweite Schicht 50 Neuronen umfasst. Diese Anordnung ermöglicht die Modellierung komplexer Zusammenhänge, ohne direkt das Risiko des Overfittings zu erhöhen. \n",
    "\n",
    "Als Aktivierungsfunktion wurde ReLU gewählt, da sie sich in der Praxis bewährt hat und häufig dazu beiträgt, das Problem des verschwindenden Gradienten zu vermeiden. Der Optimierer 'adam' wurde aufgrund seiner Effizienz und der Fähigkeit, adaptive Lernraten zu nutzen, ausgewählt. Der Regularisierungsparameter alpha wurde auf einen Wert von 0.0001 gesetzt, um einem Overfitting entgegenzuwirken, indem ein sanfter Druck auf kleinere Gewichtswerte ausgeübt wird. \n",
    "\n",
    "Die Anzahl der Iterationen wurde auf 200 festgesetzt, um dem Modell genügend Raum für die Konvergenz zu geben, ohne hohe Rechenzeiten in Kauf nehmen zu müssen. Die initiale Lernrate wurde auf einen Wert von 0.001 eingestellt, um ein ausgewogenes Verhältnis zwischen Fortschritt und Stabilität während des Trainingsprozesses zu erreichen. Diese Einstellungen dienen als Ausgangspunkt für die Entwicklung des Modells, wobei eine iterative Feinabstimmung vorgesehen ist, um die Architektur an die spezifischen Anforderungen der Daten anzupassen."
   ]
  },
  {
   "cell_type": "code",
   "execution_count": 27,
   "id": "5573192f-cd19-4997-b247-d83e19852f48",
   "metadata": {},
   "outputs": [],
   "source": [
    "from sklearn.neural_network import MLPClassifier\n",
    "mlp = MLPClassifier(hidden_layer_sizes=(100, 50), activation='relu', \n",
    "                    solver='adam', alpha=0.0001, \n",
    "                    batch_size='auto', learning_rate='constant', \n",
    "                    learning_rate_init=0.001, max_iter=200, \n",
    "                    shuffle=True, random_state=42, tol=0.0001, \n",
    "                    verbose=False, warm_start=False, momentum=0.9, \n",
    "                    nesterovs_momentum=True, early_stopping=False, \n",
    "                    validation_fraction=0.1, beta_1=0.9, beta_2=0.999, \n",
    "                    epsilon=1e-08, n_iter_no_change=10)"
   ]
  },
  {
   "cell_type": "code",
   "execution_count": 28,
   "id": "7d8d8114-5042-49b0-8302-d157b2d9779b",
   "metadata": {},
   "outputs": [
    {
     "name": "stdout",
     "output_type": "stream",
     "text": [
      "Accuracy: 0.9900990099009901\n",
      "              precision    recall  f1-score   support\n",
      "\n",
      "           0       1.00      0.98      0.99        62\n",
      "           1       0.97      1.00      0.99        39\n",
      "\n",
      "    accuracy                           0.99       101\n",
      "   macro avg       0.99      0.99      0.99       101\n",
      "weighted avg       0.99      0.99      0.99       101\n",
      "\n"
     ]
    }
   ],
   "source": [
    "mlp.fit(X_train_scaled, y_train)\n",
    "mlp_predictions = mlp.predict(X_test_scaled)\n",
    "print(\"Accuracy:\", accuracy_score(y_test, mlp_predictions))\n",
    "print(classification_report(y_test, mlp.predict(X_test_scaled)))"
   ]
  },
  {
   "cell_type": "code",
   "execution_count": 24,
   "id": "6859aa69-45a2-4648-ac5a-8391955e382e",
   "metadata": {},
   "outputs": [
    {
     "name": "stdout",
     "output_type": "stream",
     "text": [
      "Matthews-Korrelationskoeffizient: 0.9794254405254067\n"
     ]
    }
   ],
   "source": [
    "mcc = matthews_corrcoef(y_test, mlp_predictions)\n",
    "print(\"Matthews-Korrelationskoeffizient:\", mcc)"
   ]
  },
  {
   "cell_type": "markdown",
   "id": "00114eb8-847f-4afc-b375-a84f135f91fd",
   "metadata": {},
   "source": [
    "Bei näherer Betrachtung der Ergebnisse der beiden bisher angewandten Modelle, fällt auf, dass beide Modelle eine identische Accuracy von rund 99% erreichen. Allerdings weisen die präziseren Metriken der Klassifikationsleistung aufschlussreiche Unterschiede auf.\n",
    "\n",
    "Bei der SVM ist die Präzision bei der Vorhersage bösartiger Tumoren mit 100% perfekt, während das MLP eine Präzision von 97% zeigt. Das MLP hingegen erreicht eine Recall-Rate von 100% bei der Identifikation gutartiger Tumoren, im Vergleich zu 98% bei der SVM. Diese quasi diagonale Vertauschung der Präzisions- und Recall-Werte deutet auf unterschiedliche Stärken der Modelle hin.\n",
    "\n",
    "Im Kontext der medizinischen Diagnose, wo die korrekte Identifizierung bösartiger Tumoren lebensrettend sein kann, erweist sich die höhere Präzision der SVM bei bösartigen Tumoren als besonders relevant. Ein Modell, das mit höherer Sicherheit bösartige Tumoren korrekt erkennt und als solche klassifiziert, ohne gutartige Tumore fälschlicherweise als bösartig einzustufen, minimiert das Risiko unnötiger Sorge oder invasiver Folgeuntersuchungen für die Patienten und ist somit im medizinischen Kontext die bessere Wahl.\n",
    "\n",
    "Der nächste Schritt besteht darin, die Kreuzvalidierung auch für dieses Modell durchzuführen und die Ergebnisse zu vergleichen."
   ]
  },
  {
   "cell_type": "code",
   "execution_count": 29,
   "id": "b557e3e1-f974-4a74-855b-33760beb5474",
   "metadata": {},
   "outputs": [
    {
     "name": "stdout",
     "output_type": "stream",
     "text": [
      " Durchschnittlicher Kreuzvalidierungswert Accuracy: 0.9750, Standardabweichung: 0.0177\n",
      " Durchschnittlicher Kreuzvalidierungswert Präzision: 0.9726, Standardabweichung: 0.0138\n",
      " Durchschnittlicher Kreuzvalidierungswert Recall: 0.9595, Standardabweichung: 0.0392\n",
      " Durchschnittlicher Kreuzvalidierungswert F1: 0.9657, Standardabweichung: 0.0246\n",
      " Durchschnittlicher Kreuzvalidierungswert MCC: 0.9465, Standardabweichung: 0.0380\n"
     ]
    }
   ],
   "source": [
    "from sklearn.model_selection import cross_validate\n",
    "\n",
    "#Erstellen des StratifiedKFold-Cross-Validators\n",
    "stratified_kfold = StratifiedKFold(n_splits=5, shuffle=True, random_state=42)\n",
    "\n",
    "# Definieren der Scoring-Metriken\n",
    "scoring_metrics = {\n",
    "    'Accuracy': make_scorer(accuracy_score),\n",
    "    'Präzision': make_scorer(precision_score),\n",
    "    'Recall': make_scorer(recall_score),\n",
    "    'F1': make_scorer(f1_score),\n",
    "    'MCC': make_scorer(matthews_corrcoef),\n",
    "}\n",
    "\n",
    "# Kreuzvalidierung durchführen\n",
    "cross_val_results_mlp = cross_validate(\n",
    "    mlp, X_train_scaled, y_train,\n",
    "    cv=stratified_kfold,\n",
    "    scoring=scoring_metrics,\n",
    "    return_train_score=False\n",
    ")\n",
    "\n",
    "# Durchschnittswerte und Standardabweichungen ausgeben\n",
    "for metric in scoring_metrics:\n",
    "    test_scores = cross_val_results_mlp['test_' + metric]\n",
    "    print(f\" Durchschnittlicher Kreuzvalidierungswert {metric}: {test_scores.mean():.4f}, Standardabweichung: {test_scores.std():.4f}\")"
   ]
  },
  {
   "cell_type": "markdown",
   "id": "048ca1a1-6792-49cd-906e-faf8fb7284f8",
   "metadata": {},
   "source": [
    "Die Ergebnisse der Kreuzvalidierung zeigen, dass sowohl das SVM- als auch das MLP-Modell konsistent gute Leistungen zeigen. Mit einer durchschnittlichen Accuracy von 0.9750 werden etwa 97,5% der Vorhersagen korrekt getroffen. Die Präzision von 0.9726 deutet darauf hin, dass das Modell bei der Identifizierung von bösartigen Tumoren sehr genau ist, während der Recall von 0.9595 darauf hindeutet, dass das Modell etwa 95,95% der tatsächlich bösartigen Tumoren richtig erkennt. Der MCC von 0.9465 deutet darauf hin, dass das Modell insgesamt eine gute Ausgewogenheit zwischen den Klassen aufweist und zuverlässige Vorhersagen liefert. Die geringen Standardabweichungen zeigen zudem eine konsistente Leistung über die verschiedenen Folds der Kreuzvalidierung hinweg an."
   ]
  },
  {
   "cell_type": "markdown",
   "id": "f42dcc9c",
   "metadata": {},
   "source": [
    "**2.3 Entscheidungsbaum**"
   ]
  },
  {
   "cell_type": "code",
   "execution_count": 31,
   "id": "0ef3f024",
   "metadata": {},
   "outputs": [
    {
     "name": "stdout",
     "output_type": "stream",
     "text": [
      "Accuracy: 0.9306930693069307\n",
      "              precision    recall  f1-score   support\n",
      "\n",
      "           0       0.95      0.94      0.94        62\n",
      "           1       0.90      0.92      0.91        39\n",
      "\n",
      "    accuracy                           0.93       101\n",
      "   macro avg       0.93      0.93      0.93       101\n",
      "weighted avg       0.93      0.93      0.93       101\n",
      "\n"
     ]
    }
   ],
   "source": [
    "from sklearn.tree import DecisionTreeClassifier\n",
    "tree = DecisionTreeClassifier(random_state=42)\n",
    "tree.fit(X_train, y_train)\n",
    "tree_predictions = tree.predict(X_test)\n",
    "print(\"Accuracy:\", accuracy_score(y_test, tree_predictions))\n",
    "print(classification_report(y_test, tree.predict(X_test)))"
   ]
  },
  {
   "cell_type": "markdown",
   "id": "9eeea7fe-35b8-41fb-a2c4-2e9c3d8a982c",
   "metadata": {},
   "source": [
    "Im Vergleich zu den anderen beiden Modellen, schneidet der Entscheidungsbaum mit einer Genauigkeit von 93,069% etwas schlechter als die beiden anderen Modelle ab. Die Precision für die gutartigen Tumore beträgt 0.95, was bedeutet, dass von den vom Modell als gutartig klassifizierten Tumoren etwa 95% tatsächlich gutartig sind. Für die bösartigen Tumore beträgt die Precision 0.90, was darauf hindeutet, dass von den vom Modell als bösartig klassifizierten Tumoren etwa 90% tatsächlich bösartig sind.\r\n",
    "\r\n",
    "Der Recall für die gutartigen Tumore beträgt 0.94, was bedeutet, dass das Modell etwa 94% der tatsächlich gutartigen Tumoren korrekt erkenntwährend der Recall von 0.92 für die andere Klasse darauf hinweist, dass das Modell etwa 92% der tatsächlich bösartigen Tumoren richtig erkennt.\r\n",
    "\r\n",
    "Die Macro Average und die Weighted Average sind mit 0.93 identisch, was zeigt, dass das Modell insgesamt eine ausgewogene Leistung aufweist.\r\n",
    "\r\n",
    "Insgesamt zeigt der Entscheidungsbaum eine solide Leistung bei der Klassifizierung von Tumoren, jedoch etwas niedriger im Vergleich zu den anderen Modellen in Bezug auf Accuracy und Precision. Im Kontext der Ergebnisse könnte die geringere Leistung des Entscheidungsbaumes auf Overfitting oder auf die Einfachheit des Modells zurückzuführen sein, da SVM und MLP tendenziell komplexere Modelle sind, die feinere Muster in den Daten erkennen können."
   ]
  },
  {
   "cell_type": "code",
   "execution_count": 32,
   "id": "8acd68a8-dff2-4038-9178-5c2ce356f7bc",
   "metadata": {},
   "outputs": [
    {
     "name": "stdout",
     "output_type": "stream",
     "text": [
      "Matthews-Korrelationskoeffizient: 0.8546814689074167\n"
     ]
    }
   ],
   "source": [
    "mcc = matthews_corrcoef(y_test, tree_predictions)\n",
    "print(\"Matthews-Korrelationskoeffizient:\", mcc)"
   ]
  },
  {
   "cell_type": "markdown",
   "id": "49901d40-efd7-4bb5-a102-16aad5fa9597",
   "metadata": {},
   "source": [
    "Der Matthews-Korrelationskoeffizient deutet mit einem Wert von 0.8547 darauf hin, dass das Entscheidungsbaum-Modell eine starke positive Korrelation zwischen den tatsächlichen und den vorhergesagten Klassifizierungen aufweist. In anderen Worten, das Modell hat eine starke Fähigkeit, zwischen gutartigen und bösartigen Tumoren zu unterscheiden, und die Vorhersagen sind konsistent mit den tatsächlichen Klassen."
   ]
  },
  {
   "cell_type": "markdown",
   "id": "7cd30d76",
   "metadata": {},
   "source": [
    "**3. Hyperparameter-Tuning**"
   ]
  },
  {
   "cell_type": "markdown",
   "id": "a0eb6116-1d5b-4c13-9c90-1b580b67a880",
   "metadata": {},
   "source": [
    "**Feature Selection**"
   ]
  },
  {
   "cell_type": "markdown",
   "id": "de99b811-8d54-465b-8944-928ba9b4aa8a",
   "metadata": {},
   "source": [
    "Bei der Feature Selection wird eine Teilmenge relevanter Features für den Einsatz im Modell ausgewählt. Ziel ist es, die Modellkomplexität zu reduzieren, Overfitting zu vermeiden und die Leistung verbessern. Eine Methodik der Feature Selection ist die Rekursive Feature Eliminierung (RFE). Bei dieser Technik werden wiederholt Features mit der geringsten Bedeutung entfernt und das Modell neu aufgebaut, bis die gewünschte Anzahl von Features erreicht ist."
   ]
  },
  {
   "cell_type": "markdown",
   "id": "a7634305",
   "metadata": {},
   "source": [
    "*3.1 Support Vector Machine*"
   ]
  },
  {
   "cell_type": "markdown",
   "id": "eddcfc93",
   "metadata": {},
   "source": [
    "Das Hyperparameter-Tuning beschreibt das Vornehmen von Konfigurationseinstellungen um das Modell zu den bestmöglichen Vorhersageleistungen zu bringen. Bei Support-Vector-Machines gibt es mehrere Hyperparameter, die einen großen Einfluss auf die Leistung haben können: Für SVM sind die üblichen Hyperparameter in der Regel der Regularisierungsparameter, der Typ des Kernels, der Kernel-Koeffizient und der Grad des polynomialen Kernels. \n",
    "\n",
    "Im Rahmen des Hyperpearametertuning der SVM nutzen wir den C-Regularisierungsparameter. Er bestimmt, wie stark das Modell alle Trainingsdaten exakt klassifizieren soll. Ein kleiner Wert von C führt zu einer größeren Fehlertolreanz, was bedeutet, dass das Modell an den Trainingsdaten Fehler machen kann, um eine bessere Generalisierungsfähigkeit zu erlangen. Ein großer C-Wert hat zum Ziel die Klassifizierung fehlerfrei zu machen, was zu einem Overfitting führen kann. Für C legen wir eine Skala fest, die es ermöglicht eine breite Spanne von sehr schwacher bis zu sher starker Regularisierung durchzuführen.  Die Wahl der Werte gibt Aufschluss darüber, wie stark das Modell auf verschiedene Regularisierungsstärken reagiert.\n",
    "\n",
    "Gamma wird nur für nicht-lineare Kernel gewählt wie RBF, und stellt einen Koeffizienten dar, der die Recihweite der einzelnen Trainingsbeispiele bestimmt. Niedrige Werte bedeuten, dass jedes Beispiel eine weite Einflusszone hat, während hohe bedeuten, dass das Trainingsbeispiel nur in der direkten Umgebung Einfluss hat. Die ausgewählten Werte decken eine weite Bandbreite der Einflussgröße von den Trainingsbeispielen auf die Entscheidungsgrenze ab.\n",
    "\n",
    "Der Kernel bestimmt den Typ des Raums in den die Daten projiziert werden, bevor die Trennlinie gezogen wird. Linear und RBF sind zwei grundlegende Kernels, die ein breites Spektrum abdecken können. Der lineare bietet sich an, wenn die Daten linear trennbar sind während der RBF-Kernel in der Lage ist nicht-lineare zu erafssen. Wir decken somit beide Fälle ab.\n",
    " "
   ]
  },
  {
   "cell_type": "code",
   "execution_count": 33,
   "id": "dc2ec9c0-1147-43cf-a8e8-e5381b019959",
   "metadata": {},
   "outputs": [],
   "source": [
    "from sklearn.model_selection import GridSearchCV\n",
    "\n",
    "# Parameterbereich festsetzen\n",
    "param_grid = {\n",
    "    'C': [0.1, 1, 10, 100, 1000],\n",
    "    'gamma': [1, 0.1, 0.01, 0.001, 0.0001],\n",
    "    'kernel': ['rbf', 'linear']\n",
    "}"
   ]
  },
  {
   "cell_type": "markdown",
   "id": "8808faaa-d8ac-45b3-bdf9-ebf04b982ef7",
   "metadata": {},
   "source": [
    "Bei der Erstellung der GridSearch geben wir zum einen refit=True mit. Das bedeutet, dass, nachdem GridSearchCV die beste Kombination von Parametern gefunden hat, es mit diesen Parametern das Modell erneut auf dem gesamten Datensatz trainiert. Das Endergebnis ist damit ein vollständig trainiertes Modell, das Vorhersagen treffen kann.\n",
    "\n",
    "Verbose=3 ist ein Parameter, der steuert, wie viel Ausgabe der Algorithmus während des Trainings erzeugt. Je höher die Zahl, desto mehr Informationen. Das kann nützlich sein, um den Fortschritt der Suche zu verfolgen, wenn sie länger dauert.\n",
    "\n",
    "CV=5 stellt die Kreuzvalidierung dar und gibt an, dass der Datensatz in 5 Teile aufgeteilt werden soll."
   ]
  },
  {
   "cell_type": "code",
   "execution_count": 34,
   "id": "872facb0-f4bc-45fd-bf41-1254208a0dd4",
   "metadata": {},
   "outputs": [
    {
     "name": "stdout",
     "output_type": "stream",
     "text": [
      "Fitting 5 folds for each of 50 candidates, totalling 250 fits\n",
      "[CV 1/5] END ........C=0.1, gamma=1, kernel=rbf;, score=0.625 total time=   0.0s\n",
      "[CV 2/5] END ........C=0.1, gamma=1, kernel=rbf;, score=0.625 total time=   0.0s\n",
      "[CV 3/5] END ........C=0.1, gamma=1, kernel=rbf;, score=0.625 total time=   0.0s\n",
      "[CV 4/5] END ........C=0.1, gamma=1, kernel=rbf;, score=0.625 total time=   0.0s\n",
      "[CV 5/5] END ........C=0.1, gamma=1, kernel=rbf;, score=0.637 total time=   0.0s\n",
      "[CV 1/5] END .....C=0.1, gamma=1, kernel=linear;, score=0.938 total time=   0.0s\n",
      "[CV 2/5] END .....C=0.1, gamma=1, kernel=linear;, score=0.900 total time=   0.0s\n",
      "[CV 3/5] END .....C=0.1, gamma=1, kernel=linear;, score=0.938 total time=   0.0s\n",
      "[CV 4/5] END .....C=0.1, gamma=1, kernel=linear;, score=0.988 total time=   0.0s\n",
      "[CV 5/5] END .....C=0.1, gamma=1, kernel=linear;, score=0.963 total time=   0.1s\n",
      "[CV 1/5] END ......C=0.1, gamma=0.1, kernel=rbf;, score=0.625 total time=   0.0s\n",
      "[CV 2/5] END ......C=0.1, gamma=0.1, kernel=rbf;, score=0.625 total time=   0.0s\n",
      "[CV 3/5] END ......C=0.1, gamma=0.1, kernel=rbf;, score=0.625 total time=   0.0s\n",
      "[CV 4/5] END ......C=0.1, gamma=0.1, kernel=rbf;, score=0.625 total time=   0.0s\n",
      "[CV 5/5] END ......C=0.1, gamma=0.1, kernel=rbf;, score=0.637 total time=   0.0s\n",
      "[CV 1/5] END ...C=0.1, gamma=0.1, kernel=linear;, score=0.938 total time=   0.0s\n",
      "[CV 2/5] END ...C=0.1, gamma=0.1, kernel=linear;, score=0.900 total time=   0.0s\n",
      "[CV 3/5] END ...C=0.1, gamma=0.1, kernel=linear;, score=0.938 total time=   0.0s\n",
      "[CV 4/5] END ...C=0.1, gamma=0.1, kernel=linear;, score=0.988 total time=   0.0s\n",
      "[CV 5/5] END ...C=0.1, gamma=0.1, kernel=linear;, score=0.963 total time=   0.1s\n",
      "[CV 1/5] END .....C=0.1, gamma=0.01, kernel=rbf;, score=0.625 total time=   0.0s\n",
      "[CV 2/5] END .....C=0.1, gamma=0.01, kernel=rbf;, score=0.625 total time=   0.0s\n",
      "[CV 3/5] END .....C=0.1, gamma=0.01, kernel=rbf;, score=0.625 total time=   0.0s\n",
      "[CV 4/5] END .....C=0.1, gamma=0.01, kernel=rbf;, score=0.625 total time=   0.0s\n",
      "[CV 5/5] END .....C=0.1, gamma=0.01, kernel=rbf;, score=0.637 total time=   0.0s\n",
      "[CV 1/5] END ..C=0.1, gamma=0.01, kernel=linear;, score=0.938 total time=   0.0s\n",
      "[CV 2/5] END ..C=0.1, gamma=0.01, kernel=linear;, score=0.900 total time=   0.0s\n",
      "[CV 3/5] END ..C=0.1, gamma=0.01, kernel=linear;, score=0.938 total time=   0.0s\n",
      "[CV 4/5] END ..C=0.1, gamma=0.01, kernel=linear;, score=0.988 total time=   0.0s\n",
      "[CV 5/5] END ..C=0.1, gamma=0.01, kernel=linear;, score=0.963 total time=   0.1s\n",
      "[CV 1/5] END ....C=0.1, gamma=0.001, kernel=rbf;, score=0.625 total time=   0.0s\n",
      "[CV 2/5] END ....C=0.1, gamma=0.001, kernel=rbf;, score=0.625 total time=   0.0s\n",
      "[CV 3/5] END ....C=0.1, gamma=0.001, kernel=rbf;, score=0.625 total time=   0.0s\n",
      "[CV 4/5] END ....C=0.1, gamma=0.001, kernel=rbf;, score=0.625 total time=   0.0s\n",
      "[CV 5/5] END ....C=0.1, gamma=0.001, kernel=rbf;, score=0.637 total time=   0.0s\n",
      "[CV 1/5] END .C=0.1, gamma=0.001, kernel=linear;, score=0.938 total time=   0.0s\n",
      "[CV 2/5] END .C=0.1, gamma=0.001, kernel=linear;, score=0.900 total time=   0.0s\n",
      "[CV 3/5] END .C=0.1, gamma=0.001, kernel=linear;, score=0.938 total time=   0.0s\n",
      "[CV 4/5] END .C=0.1, gamma=0.001, kernel=linear;, score=0.988 total time=   0.0s\n",
      "[CV 5/5] END .C=0.1, gamma=0.001, kernel=linear;, score=0.963 total time=   0.1s\n",
      "[CV 1/5] END ...C=0.1, gamma=0.0001, kernel=rbf;, score=0.925 total time=   0.0s\n",
      "[CV 2/5] END ...C=0.1, gamma=0.0001, kernel=rbf;, score=0.887 total time=   0.0s\n",
      "[CV 3/5] END ...C=0.1, gamma=0.0001, kernel=rbf;, score=0.925 total time=   0.0s\n",
      "[CV 4/5] END ...C=0.1, gamma=0.0001, kernel=rbf;, score=0.950 total time=   0.0s\n",
      "[CV 5/5] END ...C=0.1, gamma=0.0001, kernel=rbf;, score=0.950 total time=   0.0s\n",
      "[CV 1/5] END C=0.1, gamma=0.0001, kernel=linear;, score=0.938 total time=   0.0s\n",
      "[CV 2/5] END C=0.1, gamma=0.0001, kernel=linear;, score=0.900 total time=   0.0s\n",
      "[CV 3/5] END C=0.1, gamma=0.0001, kernel=linear;, score=0.938 total time=   0.1s\n",
      "[CV 4/5] END C=0.1, gamma=0.0001, kernel=linear;, score=0.988 total time=   0.0s\n",
      "[CV 5/5] END C=0.1, gamma=0.0001, kernel=linear;, score=0.963 total time=   0.1s\n",
      "[CV 1/5] END ..........C=1, gamma=1, kernel=rbf;, score=0.625 total time=   0.0s\n",
      "[CV 2/5] END ..........C=1, gamma=1, kernel=rbf;, score=0.625 total time=   0.0s\n",
      "[CV 3/5] END ..........C=1, gamma=1, kernel=rbf;, score=0.625 total time=   0.0s\n",
      "[CV 4/5] END ..........C=1, gamma=1, kernel=rbf;, score=0.625 total time=   0.0s\n",
      "[CV 5/5] END ..........C=1, gamma=1, kernel=rbf;, score=0.637 total time=   0.0s\n",
      "[CV 1/5] END .......C=1, gamma=1, kernel=linear;, score=0.963 total time=   0.2s\n",
      "[CV 2/5] END .......C=1, gamma=1, kernel=linear;, score=0.925 total time=   0.6s\n",
      "[CV 3/5] END .......C=1, gamma=1, kernel=linear;, score=0.963 total time=   1.7s\n",
      "[CV 4/5] END .......C=1, gamma=1, kernel=linear;, score=0.988 total time=   0.4s\n",
      "[CV 5/5] END .......C=1, gamma=1, kernel=linear;, score=0.975 total time=   1.6s\n",
      "[CV 1/5] END ........C=1, gamma=0.1, kernel=rbf;, score=0.625 total time=   0.0s\n",
      "[CV 2/5] END ........C=1, gamma=0.1, kernel=rbf;, score=0.625 total time=   0.0s\n",
      "[CV 3/5] END ........C=1, gamma=0.1, kernel=rbf;, score=0.625 total time=   0.0s\n",
      "[CV 4/5] END ........C=1, gamma=0.1, kernel=rbf;, score=0.625 total time=   0.0s\n",
      "[CV 5/5] END ........C=1, gamma=0.1, kernel=rbf;, score=0.637 total time=   0.0s\n",
      "[CV 1/5] END .....C=1, gamma=0.1, kernel=linear;, score=0.963 total time=   0.2s\n",
      "[CV 2/5] END .....C=1, gamma=0.1, kernel=linear;, score=0.925 total time=   0.6s\n",
      "[CV 3/5] END .....C=1, gamma=0.1, kernel=linear;, score=0.963 total time=   1.7s\n",
      "[CV 4/5] END .....C=1, gamma=0.1, kernel=linear;, score=0.988 total time=   0.4s\n",
      "[CV 5/5] END .....C=1, gamma=0.1, kernel=linear;, score=0.975 total time=   1.6s\n",
      "[CV 1/5] END .......C=1, gamma=0.01, kernel=rbf;, score=0.625 total time=   0.0s\n",
      "[CV 2/5] END .......C=1, gamma=0.01, kernel=rbf;, score=0.625 total time=   0.0s\n",
      "[CV 3/5] END .......C=1, gamma=0.01, kernel=rbf;, score=0.625 total time=   0.0s\n",
      "[CV 4/5] END .......C=1, gamma=0.01, kernel=rbf;, score=0.625 total time=   0.0s\n",
      "[CV 5/5] END .......C=1, gamma=0.01, kernel=rbf;, score=0.637 total time=   0.0s\n",
      "[CV 1/5] END ....C=1, gamma=0.01, kernel=linear;, score=0.963 total time=   0.2s\n",
      "[CV 2/5] END ....C=1, gamma=0.01, kernel=linear;, score=0.925 total time=   0.6s\n",
      "[CV 3/5] END ....C=1, gamma=0.01, kernel=linear;, score=0.963 total time=   1.7s\n",
      "[CV 4/5] END ....C=1, gamma=0.01, kernel=linear;, score=0.988 total time=   0.4s\n",
      "[CV 5/5] END ....C=1, gamma=0.01, kernel=linear;, score=0.975 total time=   1.6s\n",
      "[CV 1/5] END ......C=1, gamma=0.001, kernel=rbf;, score=0.912 total time=   0.0s\n",
      "[CV 2/5] END ......C=1, gamma=0.001, kernel=rbf;, score=0.912 total time=   0.0s\n",
      "[CV 3/5] END ......C=1, gamma=0.001, kernel=rbf;, score=0.938 total time=   0.0s\n",
      "[CV 4/5] END ......C=1, gamma=0.001, kernel=rbf;, score=0.963 total time=   0.0s\n",
      "[CV 5/5] END ......C=1, gamma=0.001, kernel=rbf;, score=0.950 total time=   0.0s\n",
      "[CV 1/5] END ...C=1, gamma=0.001, kernel=linear;, score=0.963 total time=   0.2s\n",
      "[CV 2/5] END ...C=1, gamma=0.001, kernel=linear;, score=0.925 total time=   0.6s\n",
      "[CV 3/5] END ...C=1, gamma=0.001, kernel=linear;, score=0.963 total time=   1.7s\n",
      "[CV 4/5] END ...C=1, gamma=0.001, kernel=linear;, score=0.988 total time=   0.4s\n",
      "[CV 5/5] END ...C=1, gamma=0.001, kernel=linear;, score=0.975 total time=   1.6s\n",
      "[CV 1/5] END .....C=1, gamma=0.0001, kernel=rbf;, score=0.925 total time=   0.0s\n",
      "[CV 2/5] END .....C=1, gamma=0.0001, kernel=rbf;, score=0.900 total time=   0.0s\n",
      "[CV 3/5] END .....C=1, gamma=0.0001, kernel=rbf;, score=0.938 total time=   0.0s\n",
      "[CV 4/5] END .....C=1, gamma=0.0001, kernel=rbf;, score=0.950 total time=   0.0s\n",
      "[CV 5/5] END .....C=1, gamma=0.0001, kernel=rbf;, score=0.963 total time=   0.0s\n",
      "[CV 1/5] END ..C=1, gamma=0.0001, kernel=linear;, score=0.963 total time=   0.2s\n",
      "[CV 2/5] END ..C=1, gamma=0.0001, kernel=linear;, score=0.925 total time=   0.6s\n",
      "[CV 3/5] END ..C=1, gamma=0.0001, kernel=linear;, score=0.963 total time=   1.7s\n",
      "[CV 4/5] END ..C=1, gamma=0.0001, kernel=linear;, score=0.988 total time=   0.4s\n",
      "[CV 5/5] END ..C=1, gamma=0.0001, kernel=linear;, score=0.975 total time=   1.5s\n",
      "[CV 1/5] END .........C=10, gamma=1, kernel=rbf;, score=0.625 total time=   0.0s\n",
      "[CV 2/5] END .........C=10, gamma=1, kernel=rbf;, score=0.625 total time=   0.0s\n",
      "[CV 3/5] END .........C=10, gamma=1, kernel=rbf;, score=0.625 total time=   0.0s\n",
      "[CV 4/5] END .........C=10, gamma=1, kernel=rbf;, score=0.625 total time=   0.0s\n",
      "[CV 5/5] END .........C=10, gamma=1, kernel=rbf;, score=0.637 total time=   0.0s\n",
      "[CV 1/5] END ......C=10, gamma=1, kernel=linear;, score=0.950 total time=   1.9s\n",
      "[CV 2/5] END ......C=10, gamma=1, kernel=linear;, score=0.963 total time=   1.4s\n",
      "[CV 3/5] END ......C=10, gamma=1, kernel=linear;, score=0.963 total time=   4.7s\n",
      "[CV 4/5] END ......C=10, gamma=1, kernel=linear;, score=0.988 total time=   3.7s\n",
      "[CV 5/5] END ......C=10, gamma=1, kernel=linear;, score=0.963 total time=   7.5s\n",
      "[CV 1/5] END .......C=10, gamma=0.1, kernel=rbf;, score=0.625 total time=   0.0s\n",
      "[CV 2/5] END .......C=10, gamma=0.1, kernel=rbf;, score=0.625 total time=   0.0s\n",
      "[CV 3/5] END .......C=10, gamma=0.1, kernel=rbf;, score=0.625 total time=   0.0s\n",
      "[CV 4/5] END .......C=10, gamma=0.1, kernel=rbf;, score=0.625 total time=   0.0s\n",
      "[CV 5/5] END .......C=10, gamma=0.1, kernel=rbf;, score=0.637 total time=   0.0s\n",
      "[CV 1/5] END ....C=10, gamma=0.1, kernel=linear;, score=0.950 total time=   1.9s\n",
      "[CV 2/5] END ....C=10, gamma=0.1, kernel=linear;, score=0.963 total time=   1.5s\n",
      "[CV 3/5] END ....C=10, gamma=0.1, kernel=linear;, score=0.963 total time=   4.6s\n",
      "[CV 4/5] END ....C=10, gamma=0.1, kernel=linear;, score=0.988 total time=   3.7s\n",
      "[CV 5/5] END ....C=10, gamma=0.1, kernel=linear;, score=0.963 total time=   7.4s\n",
      "[CV 1/5] END ......C=10, gamma=0.01, kernel=rbf;, score=0.637 total time=   0.0s\n",
      "[CV 2/5] END ......C=10, gamma=0.01, kernel=rbf;, score=0.637 total time=   0.0s\n",
      "[CV 3/5] END ......C=10, gamma=0.01, kernel=rbf;, score=0.625 total time=   0.0s\n",
      "[CV 4/5] END ......C=10, gamma=0.01, kernel=rbf;, score=0.625 total time=   0.0s\n",
      "[CV 5/5] END ......C=10, gamma=0.01, kernel=rbf;, score=0.637 total time=   0.0s\n",
      "[CV 1/5] END ...C=10, gamma=0.01, kernel=linear;, score=0.950 total time=   1.9s\n",
      "[CV 2/5] END ...C=10, gamma=0.01, kernel=linear;, score=0.963 total time=   1.5s\n",
      "[CV 3/5] END ...C=10, gamma=0.01, kernel=linear;, score=0.963 total time=   4.6s\n",
      "[CV 4/5] END ...C=10, gamma=0.01, kernel=linear;, score=0.988 total time=   3.8s\n",
      "[CV 5/5] END ...C=10, gamma=0.01, kernel=linear;, score=0.963 total time=   7.4s\n",
      "[CV 1/5] END .....C=10, gamma=0.001, kernel=rbf;, score=0.900 total time=   0.0s\n",
      "[CV 2/5] END .....C=10, gamma=0.001, kernel=rbf;, score=0.887 total time=   0.0s\n",
      "[CV 3/5] END .....C=10, gamma=0.001, kernel=rbf;, score=0.925 total time=   0.0s\n",
      "[CV 4/5] END .....C=10, gamma=0.001, kernel=rbf;, score=0.963 total time=   0.0s\n",
      "[CV 5/5] END .....C=10, gamma=0.001, kernel=rbf;, score=0.925 total time=   0.0s\n",
      "[CV 1/5] END ..C=10, gamma=0.001, kernel=linear;, score=0.950 total time=   1.9s\n",
      "[CV 2/5] END ..C=10, gamma=0.001, kernel=linear;, score=0.963 total time=   1.4s\n",
      "[CV 3/5] END ..C=10, gamma=0.001, kernel=linear;, score=0.963 total time=   4.6s\n",
      "[CV 4/5] END ..C=10, gamma=0.001, kernel=linear;, score=0.988 total time=   3.7s\n",
      "[CV 5/5] END ..C=10, gamma=0.001, kernel=linear;, score=0.963 total time=   7.4s\n",
      "[CV 1/5] END ....C=10, gamma=0.0001, kernel=rbf;, score=0.912 total time=   0.0s\n",
      "[CV 2/5] END ....C=10, gamma=0.0001, kernel=rbf;, score=0.887 total time=   0.0s\n",
      "[CV 3/5] END ....C=10, gamma=0.0001, kernel=rbf;, score=0.950 total time=   0.0s\n",
      "[CV 4/5] END ....C=10, gamma=0.0001, kernel=rbf;, score=0.988 total time=   0.0s\n",
      "[CV 5/5] END ....C=10, gamma=0.0001, kernel=rbf;, score=0.975 total time=   0.0s\n",
      "[CV 1/5] END .C=10, gamma=0.0001, kernel=linear;, score=0.950 total time=   1.9s\n",
      "[CV 2/5] END .C=10, gamma=0.0001, kernel=linear;, score=0.963 total time=   1.4s\n",
      "[CV 3/5] END .C=10, gamma=0.0001, kernel=linear;, score=0.963 total time=   4.6s\n",
      "[CV 4/5] END .C=10, gamma=0.0001, kernel=linear;, score=0.988 total time=   3.7s\n",
      "[CV 5/5] END .C=10, gamma=0.0001, kernel=linear;, score=0.963 total time=   7.4s\n",
      "[CV 1/5] END ........C=100, gamma=1, kernel=rbf;, score=0.625 total time=   0.0s\n",
      "[CV 2/5] END ........C=100, gamma=1, kernel=rbf;, score=0.625 total time=   0.0s\n",
      "[CV 3/5] END ........C=100, gamma=1, kernel=rbf;, score=0.625 total time=   0.0s\n",
      "[CV 4/5] END ........C=100, gamma=1, kernel=rbf;, score=0.625 total time=   0.0s\n",
      "[CV 5/5] END ........C=100, gamma=1, kernel=rbf;, score=0.637 total time=   0.0s\n",
      "[CV 1/5] END .....C=100, gamma=1, kernel=linear;, score=0.938 total time=   8.8s\n",
      "[CV 2/5] END .....C=100, gamma=1, kernel=linear;, score=0.950 total time=   6.5s\n",
      "[CV 3/5] END .....C=100, gamma=1, kernel=linear;, score=0.950 total time=   6.6s\n",
      "[CV 4/5] END .....C=100, gamma=1, kernel=linear;, score=1.000 total time=   2.1s\n",
      "[CV 5/5] END .....C=100, gamma=1, kernel=linear;, score=0.963 total time=   4.7s\n",
      "[CV 1/5] END ......C=100, gamma=0.1, kernel=rbf;, score=0.625 total time=   0.0s\n",
      "[CV 2/5] END ......C=100, gamma=0.1, kernel=rbf;, score=0.625 total time=   0.0s\n",
      "[CV 3/5] END ......C=100, gamma=0.1, kernel=rbf;, score=0.625 total time=   0.0s\n",
      "[CV 4/5] END ......C=100, gamma=0.1, kernel=rbf;, score=0.625 total time=   0.0s\n",
      "[CV 5/5] END ......C=100, gamma=0.1, kernel=rbf;, score=0.637 total time=   0.0s\n",
      "[CV 1/5] END ...C=100, gamma=0.1, kernel=linear;, score=0.938 total time=   9.0s\n",
      "[CV 2/5] END ...C=100, gamma=0.1, kernel=linear;, score=0.950 total time=   6.7s\n",
      "[CV 3/5] END ...C=100, gamma=0.1, kernel=linear;, score=0.950 total time=   6.1s\n",
      "[CV 4/5] END ...C=100, gamma=0.1, kernel=linear;, score=1.000 total time=   2.0s\n",
      "[CV 5/5] END ...C=100, gamma=0.1, kernel=linear;, score=0.963 total time=   4.8s\n",
      "[CV 1/5] END .....C=100, gamma=0.01, kernel=rbf;, score=0.637 total time=   0.0s\n",
      "[CV 2/5] END .....C=100, gamma=0.01, kernel=rbf;, score=0.637 total time=   0.0s\n",
      "[CV 3/5] END .....C=100, gamma=0.01, kernel=rbf;, score=0.625 total time=   0.0s\n",
      "[CV 4/5] END .....C=100, gamma=0.01, kernel=rbf;, score=0.625 total time=   0.0s\n",
      "[CV 5/5] END .....C=100, gamma=0.01, kernel=rbf;, score=0.637 total time=   0.0s\n",
      "[CV 1/5] END ..C=100, gamma=0.01, kernel=linear;, score=0.938 total time=   8.8s\n",
      "[CV 2/5] END ..C=100, gamma=0.01, kernel=linear;, score=0.950 total time=   6.5s\n",
      "[CV 3/5] END ..C=100, gamma=0.01, kernel=linear;, score=0.950 total time=   6.4s\n",
      "[CV 4/5] END ..C=100, gamma=0.01, kernel=linear;, score=1.000 total time=   2.0s\n",
      "[CV 5/5] END ..C=100, gamma=0.01, kernel=linear;, score=0.963 total time=   4.7s\n",
      "[CV 1/5] END ....C=100, gamma=0.001, kernel=rbf;, score=0.900 total time=   0.0s\n",
      "[CV 2/5] END ....C=100, gamma=0.001, kernel=rbf;, score=0.887 total time=   0.0s\n",
      "[CV 3/5] END ....C=100, gamma=0.001, kernel=rbf;, score=0.925 total time=   0.0s\n",
      "[CV 4/5] END ....C=100, gamma=0.001, kernel=rbf;, score=0.963 total time=   0.0s\n",
      "[CV 5/5] END ....C=100, gamma=0.001, kernel=rbf;, score=0.925 total time=   0.0s\n",
      "[CV 1/5] END .C=100, gamma=0.001, kernel=linear;, score=0.938 total time=   8.8s\n",
      "[CV 2/5] END .C=100, gamma=0.001, kernel=linear;, score=0.950 total time=   6.4s\n",
      "[CV 3/5] END .C=100, gamma=0.001, kernel=linear;, score=0.950 total time=   6.4s\n",
      "[CV 4/5] END .C=100, gamma=0.001, kernel=linear;, score=1.000 total time=   2.0s\n",
      "[CV 5/5] END .C=100, gamma=0.001, kernel=linear;, score=0.963 total time=   4.6s\n",
      "[CV 1/5] END ...C=100, gamma=0.0001, kernel=rbf;, score=0.912 total time=   0.0s\n",
      "[CV 2/5] END ...C=100, gamma=0.0001, kernel=rbf;, score=0.912 total time=   0.0s\n",
      "[CV 3/5] END ...C=100, gamma=0.0001, kernel=rbf;, score=0.950 total time=   0.0s\n",
      "[CV 4/5] END ...C=100, gamma=0.0001, kernel=rbf;, score=0.963 total time=   0.0s\n",
      "[CV 5/5] END ...C=100, gamma=0.0001, kernel=rbf;, score=0.950 total time=   0.0s\n",
      "[CV 1/5] END C=100, gamma=0.0001, kernel=linear;, score=0.938 total time=   8.7s\n",
      "[CV 2/5] END C=100, gamma=0.0001, kernel=linear;, score=0.950 total time=   6.1s\n",
      "[CV 3/5] END C=100, gamma=0.0001, kernel=linear;, score=0.950 total time=   6.0s\n",
      "[CV 4/5] END C=100, gamma=0.0001, kernel=linear;, score=1.000 total time=   2.0s\n",
      "[CV 5/5] END C=100, gamma=0.0001, kernel=linear;, score=0.963 total time=   4.4s\n",
      "[CV 1/5] END .......C=1000, gamma=1, kernel=rbf;, score=0.625 total time=   0.0s\n",
      "[CV 2/5] END .......C=1000, gamma=1, kernel=rbf;, score=0.625 total time=   0.0s\n",
      "[CV 3/5] END .......C=1000, gamma=1, kernel=rbf;, score=0.625 total time=   0.0s\n",
      "[CV 4/5] END .......C=1000, gamma=1, kernel=rbf;, score=0.625 total time=   0.0s\n",
      "[CV 5/5] END .......C=1000, gamma=1, kernel=rbf;, score=0.637 total time=   0.0s\n",
      "[CV 1/5] END ....C=1000, gamma=1, kernel=linear;, score=0.938 total time=   9.8s\n",
      "[CV 2/5] END ....C=1000, gamma=1, kernel=linear;, score=0.938 total time=  20.9s\n",
      "[CV 3/5] END ....C=1000, gamma=1, kernel=linear;, score=0.963 total time=  11.3s\n",
      "[CV 4/5] END ....C=1000, gamma=1, kernel=linear;, score=1.000 total time=   4.9s\n",
      "[CV 5/5] END ....C=1000, gamma=1, kernel=linear;, score=0.963 total time=   5.1s\n",
      "[CV 1/5] END .....C=1000, gamma=0.1, kernel=rbf;, score=0.625 total time=   0.0s\n",
      "[CV 2/5] END .....C=1000, gamma=0.1, kernel=rbf;, score=0.625 total time=   0.0s\n",
      "[CV 3/5] END .....C=1000, gamma=0.1, kernel=rbf;, score=0.625 total time=   0.0s\n",
      "[CV 4/5] END .....C=1000, gamma=0.1, kernel=rbf;, score=0.625 total time=   0.0s\n",
      "[CV 5/5] END .....C=1000, gamma=0.1, kernel=rbf;, score=0.637 total time=   0.0s\n",
      "[CV 1/5] END ..C=1000, gamma=0.1, kernel=linear;, score=0.938 total time=   9.7s\n",
      "[CV 2/5] END ..C=1000, gamma=0.1, kernel=linear;, score=0.938 total time=  20.4s\n",
      "[CV 3/5] END ..C=1000, gamma=0.1, kernel=linear;, score=0.963 total time=  11.3s\n",
      "[CV 4/5] END ..C=1000, gamma=0.1, kernel=linear;, score=1.000 total time=   5.0s\n",
      "[CV 5/5] END ..C=1000, gamma=0.1, kernel=linear;, score=0.963 total time=   5.1s\n",
      "[CV 1/5] END ....C=1000, gamma=0.01, kernel=rbf;, score=0.637 total time=   0.0s\n",
      "[CV 2/5] END ....C=1000, gamma=0.01, kernel=rbf;, score=0.637 total time=   0.0s\n",
      "[CV 3/5] END ....C=1000, gamma=0.01, kernel=rbf;, score=0.625 total time=   0.0s\n",
      "[CV 4/5] END ....C=1000, gamma=0.01, kernel=rbf;, score=0.625 total time=   0.0s\n",
      "[CV 5/5] END ....C=1000, gamma=0.01, kernel=rbf;, score=0.637 total time=   0.0s\n",
      "[CV 1/5] END .C=1000, gamma=0.01, kernel=linear;, score=0.938 total time=   9.6s\n",
      "[CV 2/5] END .C=1000, gamma=0.01, kernel=linear;, score=0.938 total time=  20.6s\n",
      "[CV 3/5] END .C=1000, gamma=0.01, kernel=linear;, score=0.963 total time=  11.4s\n",
      "[CV 4/5] END .C=1000, gamma=0.01, kernel=linear;, score=1.000 total time=   4.9s\n",
      "[CV 5/5] END .C=1000, gamma=0.01, kernel=linear;, score=0.963 total time=   5.3s\n",
      "[CV 1/5] END ...C=1000, gamma=0.001, kernel=rbf;, score=0.900 total time=   0.0s\n",
      "[CV 2/5] END ...C=1000, gamma=0.001, kernel=rbf;, score=0.887 total time=   0.0s\n",
      "[CV 3/5] END ...C=1000, gamma=0.001, kernel=rbf;, score=0.925 total time=   0.0s\n",
      "[CV 4/5] END ...C=1000, gamma=0.001, kernel=rbf;, score=0.963 total time=   0.0s\n",
      "[CV 5/5] END ...C=1000, gamma=0.001, kernel=rbf;, score=0.925 total time=   0.0s\n",
      "[CV 1/5] END C=1000, gamma=0.001, kernel=linear;, score=0.938 total time=   9.7s\n",
      "[CV 2/5] END C=1000, gamma=0.001, kernel=linear;, score=0.938 total time=  20.6s\n",
      "[CV 3/5] END C=1000, gamma=0.001, kernel=linear;, score=0.963 total time=  11.3s\n",
      "[CV 4/5] END C=1000, gamma=0.001, kernel=linear;, score=1.000 total time=   5.0s\n",
      "[CV 5/5] END C=1000, gamma=0.001, kernel=linear;, score=0.963 total time=   5.1s\n",
      "[CV 1/5] END ..C=1000, gamma=0.0001, kernel=rbf;, score=0.887 total time=   0.0s\n",
      "[CV 2/5] END ..C=1000, gamma=0.0001, kernel=rbf;, score=0.912 total time=   0.0s\n",
      "[CV 3/5] END ..C=1000, gamma=0.0001, kernel=rbf;, score=0.950 total time=   0.0s\n",
      "[CV 4/5] END ..C=1000, gamma=0.0001, kernel=rbf;, score=0.975 total time=   0.0s\n",
      "[CV 5/5] END ..C=1000, gamma=0.0001, kernel=rbf;, score=0.950 total time=   0.0s\n",
      "[CV 1/5] END C=1000, gamma=0.0001, kernel=linear;, score=0.938 total time=   9.6s\n",
      "[CV 2/5] END C=1000, gamma=0.0001, kernel=linear;, score=0.938 total time=  20.3s\n",
      "[CV 3/5] END C=1000, gamma=0.0001, kernel=linear;, score=0.963 total time=  11.4s\n",
      "[CV 4/5] END C=1000, gamma=0.0001, kernel=linear;, score=1.000 total time=   4.9s\n",
      "[CV 5/5] END C=1000, gamma=0.0001, kernel=linear;, score=0.963 total time=   5.1s\n",
      "Beste Hyperparameter: {'C': 10, 'gamma': 1, 'kernel': 'linear'}\n",
      "              precision    recall  f1-score   support\n",
      "\n",
      "           0       0.95      0.97      0.96        62\n",
      "           1       0.95      0.92      0.94        39\n",
      "\n",
      "    accuracy                           0.95       101\n",
      "   macro avg       0.95      0.95      0.95       101\n",
      "weighted avg       0.95      0.95      0.95       101\n",
      "\n"
     ]
    }
   ],
   "source": [
    "#SVM-CLassifier definieren\n",
    "svm = SVC(random_state=42)\n",
    "\n",
    "# GridSearchCV erstellen\n",
    "grid_search = GridSearchCV(svm, param_grid, refit=True, verbose=3, cv=5)\n",
    "\n",
    "#  GridSearch auf den Trainingsdaten ausführen\n",
    "grid_search.fit(X_train, y_train)\n",
    "\n",
    "# Besten Hyperparameter anzeigen\n",
    "print(\"Beste Hyperparameter:\", grid_search.best_params_)\n",
    "\n",
    "# Modell mit den besten gefundenen Parametern trainieren\n",
    "best_svm = grid_search.best_estimator_\n",
    "\n",
    "# Modell bewerten\n",
    "predictions = best_svm.predict(X_test)\n",
    "print(classification_report(y_test, predictions))"
   ]
  },
  {
   "cell_type": "markdown",
   "id": "59e81c9d",
   "metadata": {},
   "source": [
    "*3.2 Multilayer Perceptron*"
   ]
  },
  {
   "cell_type": "code",
   "execution_count": null,
   "id": "dd50e141",
   "metadata": {},
   "outputs": [],
   "source": []
  },
  {
   "cell_type": "code",
   "execution_count": null,
   "id": "bd34503c",
   "metadata": {},
   "outputs": [],
   "source": []
  },
  {
   "cell_type": "markdown",
   "id": "a072df13",
   "metadata": {},
   "source": [
    "*3.3 Entscheidungsbaum*"
   ]
  },
  {
   "cell_type": "code",
   "execution_count": null,
   "id": "e71835ed",
   "metadata": {},
   "outputs": [],
   "source": []
  },
  {
   "cell_type": "code",
   "execution_count": null,
   "id": "f133d749",
   "metadata": {},
   "outputs": [],
   "source": []
  }
 ],
 "metadata": {
  "kernelspec": {
   "display_name": "Python 3 (ipykernel)",
   "language": "python",
   "name": "python3"
  },
  "language_info": {
   "codemirror_mode": {
    "name": "ipython",
    "version": 3
   },
   "file_extension": ".py",
   "mimetype": "text/x-python",
   "name": "python",
   "nbconvert_exporter": "python",
   "pygments_lexer": "ipython3",
   "version": "3.11.7"
  }
 },
 "nbformat": 4,
 "nbformat_minor": 5
}
