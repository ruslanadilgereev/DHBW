{
 "cells": [
  {
   "cell_type": "code",
   "execution_count": 73,
   "id": "f983d905",
   "metadata": {
    "ExecuteTime": {
     "end_time": "2023-09-12T11:37:42.161989300Z",
     "start_time": "2023-09-12T11:37:42.107364800Z"
    }
   },
   "outputs": [],
   "source": [
    "import pandas as pd\n",
    "import numpy as np\n",
    "import matplotlib.pyplot as plt\n",
    "from sklearn.linear_model import LogisticRegression"
   ]
  },
  {
   "cell_type": "code",
   "execution_count": 86,
   "outputs": [],
   "source": [
    "df = pd.read_csv('bmi_lern_2.csv', sep=\";\")\n",
    "df.head()\n",
    "\n",
    "x_1 = df[\"Geschlecht\"]\n",
    "x_2 = df[\"Gewicht\"]\n",
    "x_3 = df[\"Alter\"]\n",
    "y = df[\"Boolean\"]"
   ],
   "metadata": {
    "collapsed": false,
    "ExecuteTime": {
     "end_time": "2023-09-12T12:12:20.263133700Z",
     "start_time": "2023-09-12T12:12:20.217199800Z"
    }
   },
   "id": "d3b2b9fa9b9bed09"
  },
  {
   "cell_type": "code",
   "execution_count": 84,
   "outputs": [
    {
     "data": {
      "text/plain": "[<matplotlib.lines.Line2D at 0x2acbebe6a90>]"
     },
     "execution_count": 84,
     "metadata": {},
     "output_type": "execute_result"
    },
    {
     "data": {
      "text/plain": "<Figure size 640x480 with 1 Axes>",
      "image/png": "[encoded data removed]"
     },
     "metadata": {},
     "output_type": "display_data"
    }
   ],
   "source": [
    "pos = (df[\"Boolean\"] == 1)\n",
    "neg = (df[\"Boolean\"] == 0)\n",
    "\n",
    "alpha = 90\n",
    "beta = 1\n",
    "plt.scatter(df[pos][\"Alter\"], df[pos][\"Groesse\"], color=\"green\")\n",
    "plt.scatter(df[neg][\"Alter\"], df[neg][\"Groesse\"], color=\"red\")\n",
    "plt.plot([df['Gewicht'].min() ,df['Gewicht'].max()],\n",
    "         [alpha+beta*df['Gewicht'].min(),alpha+beta*df['Gewicht'].max()],\n",
    "         color='blue')"
   ],
   "metadata": {
    "collapsed": false,
    "ExecuteTime": {
     "end_time": "2023-09-12T12:08:41.037218400Z",
     "start_time": "2023-09-12T12:08:40.790472600Z"
    }
   },
   "id": "25008306f705e093"
  },
  {
   "cell_type": "code",
   "execution_count": 101,
   "outputs": [
    {
     "name": "stdout",
     "output_type": "stream",
     "text": [
      "0     m\n",
      "1     w\n",
      "2     w\n",
      "3     w\n",
      "4     w\n",
      "5     w\n",
      "6     w\n",
      "7     m\n",
      "8     w\n",
      "9     w\n",
      "10    w\n",
      "11    m\n",
      "12    m\n",
      "13    m\n",
      "14    w\n",
      "15    w\n",
      "16    w\n",
      "17    m\n",
      "18    m\n",
      "19    m\n",
      "20    w\n",
      "21    w\n",
      "22    m\n",
      "23    w\n",
      "24    m\n",
      "25    m\n",
      "26    m\n",
      "27    w\n",
      "28    m\n",
      "Name: Geschlecht, dtype: object\n",
      "0     0\n",
      "1     1\n",
      "2     1\n",
      "3     1\n",
      "4     1\n",
      "5     1\n",
      "6     1\n",
      "7     0\n",
      "8     1\n",
      "9     1\n",
      "10    1\n",
      "11    0\n",
      "12    0\n",
      "13    0\n",
      "14    1\n",
      "15    1\n",
      "16    1\n",
      "17    0\n",
      "18    0\n",
      "19    0\n",
      "20    1\n",
      "21    1\n",
      "22    0\n",
      "23    1\n",
      "24    0\n",
      "25    0\n",
      "26    0\n",
      "27    1\n",
      "28    0\n",
      "Name: Geschlecht, dtype: int32\n",
      "[[16  2]\n",
      " [ 2  9]]\n",
      "              precision    recall  f1-score   support\n",
      "\n",
      "           0       0.89      0.89      0.89        18\n",
      "           1       0.82      0.82      0.82        11\n",
      "\n",
      "    accuracy                           0.86        29\n",
      "   macro avg       0.85      0.85      0.85        29\n",
      "weighted avg       0.86      0.86      0.86        29\n"
     ]
    }
   ],
   "source": [
    "# Importing required libraries\n",
    "import pandas as pd\n",
    "import matplotlib.pyplot as plt\n",
    "import seaborn as sns\n",
    "from sklearn.preprocessing import LabelEncoder\n",
    "from sklearn.linear_model import LogisticRegression\n",
    "from sklearn.metrics import accuracy_score, precision_score, recall_score, f1_score, confusion_matrix, classification_report\n",
    "\n",
    "# Load training data\n",
    "train_file_path = 'bmi_lern_2.csv'\n",
    "bmi_lern_2_df = pd.read_csv(train_file_path, delimiter=';')\n",
    "\n",
    "# Encode the 'Geschlecht' feature in training data\n",
    "label_encoder = LabelEncoder()\n",
    "bmi_lern_2_df['Geschlecht'] = label_encoder.fit_transform(bmi_lern_2_df['Geschlecht'])\n",
    "\n",
    "# Separate features and target variable in training data\n",
    "X_train = bmi_lern_2_df[['Groesse', 'Gewicht', 'Geschlecht', 'Alter']]\n",
    "y_train = bmi_lern_2_df['Boolean']\n",
    "\n",
    "# Initialize and train the logistic regression model\n",
    "logistic_model = LogisticRegression()\n",
    "logistic_model.fit(X_train, y_train)\n",
    "\n",
    "# Evaluate the model on the training data\n",
    "y_pred_train = logistic_model.predict(X_train)\n",
    "training_accuracy = accuracy_score(y_train, y_pred_train)\n",
    "\n",
    "# Load test data\n",
    "test_file_path = 'bmi_lern_3.csv'\n",
    "bmi_lern_3_df = pd.read_csv(test_file_path, delimiter=';')\n",
    "\n",
    "# Encode the 'Geschlecht' feature in test data\n",
    "bmi_lern_3_df['Geschlecht'] = label_encoder.transform(bmi_lern_3_df['Geschlecht'])\n",
    "\n",
    "# Separate features and target variable in test data\n",
    "X_test = bmi_lern_3_df[['Groesse', 'Gewicht', 'Geschlecht', 'Alter']]\n",
    "y_test = bmi_lern_3_df['Boolean']\n",
    "\n",
    "# Evaluate the model on the test data\n",
    "y_pred_test = logistic_model.predict(X_test)\n",
    "test_accuracy = accuracy_score(y_test, y_pred_test)\n",
    "\n",
    "# Calculate additional evaluation metrics\n",
    "precision = precision_score(y_test, y_pred_test)\n",
    "recall = recall_score(y_test, y_pred_test)\n",
    "f1 = f1_score(y_test, y_pred_test)\n",
    "\n",
    "# Generate and visualize the confusion matrix\n",
    "print(confusion_matrix(y_test, y_pred_test))\n",
    "print(classification_report(y_test, y_pred_test))\n"
   ],
   "metadata": {
    "collapsed": false,
    "ExecuteTime": {
     "end_time": "2023-09-12T12:56:43.576968300Z",
     "start_time": "2023-09-12T12:56:43.501345100Z"
    }
   },
   "id": "57688a73721a585a"
  },
  {
   "cell_type": "code",
   "execution_count": null,
   "outputs": [],
   "source": [],
   "metadata": {
    "collapsed": false
   },
   "id": "9ae8ec29f17bf635"
  }
 ],
 "metadata": {
  "kernelspec": {
   "display_name": "Python 3 (ipykernel)",
   "language": "python",
   "name": "python3"
  },
  "language_info": {
   "codemirror_mode": {
    "name": "ipython",
    "version": 3
   },
   "file_extension": ".py",
   "mimetype": "text/x-python",
   "name": "python",
   "nbconvert_exporter": "python",
   "pygments_lexer": "ipython3",
   "version": "3.11.1"
  }
 },
 "nbformat": 4,
 "nbformat_minor": 5
}
