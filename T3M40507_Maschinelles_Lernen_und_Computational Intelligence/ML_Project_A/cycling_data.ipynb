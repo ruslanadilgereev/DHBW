{
 "cells": [
  {
   "cell_type": "raw",
   "source": [
    "### 1. Importing data"
   ],
   "metadata": {
    "collapsed": false
   },
   "id": "160b51385741b5d1"
  },
  {
   "cell_type": "code",
   "execution_count": 91,
   "outputs": [],
   "source": [
    "import pandas as pd\n",
    "import numpy as np\n",
    "import torch\n",
    "import torch.nn as nn\n",
    "import torch.optim as optim "
   ],
   "metadata": {
    "collapsed": false,
    "ExecuteTime": {
     "end_time": "2023-09-26T13:20:33.275767100Z",
     "start_time": "2023-09-26T13:20:33.260974500Z"
    }
   },
   "id": "initial_id"
  },
  {
   "cell_type": "code",
   "execution_count": 92,
   "outputs": [],
   "source": [
    "df = pd.read_csv('bike_rides_001.csv', delimiter=\";\")\n",
    "np.random.seed(0) # for reproducibility\n",
    "\n",
    "## Delete last row (Column names)\n",
    "df = df.iloc[:-1]"
   ],
   "metadata": {
    "collapsed": false,
    "ExecuteTime": {
     "end_time": "2023-09-26T13:20:33.342622300Z",
     "start_time": "2023-09-26T13:20:33.313396100Z"
    }
   },
   "id": "2e17a320b8951565"
  },
  {
   "cell_type": "code",
   "execution_count": 93,
   "outputs": [],
   "source": [
    "# get the number of missing data points per column\n",
    "missing_values_count = df.isnull().sum()  # nothing to do, since no null values"
   ],
   "metadata": {
    "collapsed": false,
    "ExecuteTime": {
     "end_time": "2023-09-26T13:20:33.430309500Z",
     "start_time": "2023-09-26T13:20:33.385334100Z"
    }
   },
   "id": "224014d2a03785e"
  },
  {
   "cell_type": "code",
   "execution_count": 94,
   "outputs": [],
   "source": [
    "columns_to_convert = ['Hm', 'km', 'maxHm', 'max_speed', 'minHm', 'speed', 'rider_weight', 'rider_height', 'position_long_max', 'position_long_min', 'position_lat_max', 'position_lat_min']\n",
    "for col in columns_to_convert:\n",
    "    df[col] = df[col].str.replace(',', '.').astype(float)\n",
    "\n",
    "df[\"date_parsed\"] = pd.to_datetime(df[\"date\"], format=\"%d.%m.%Y\")  # parse date as dateobject\n",
    "df[\"starttime_parsed\"] = pd.to_datetime(df[\"starttime\"], format=\"%H:%M:%S\").dt.time  # parse starttime as timeobject\n",
    "df[\"endtime_parsed\"] = pd.to_datetime(df[\"endtime\"], format=\"%H:%M:%S\").dt.time  # parse endtime as timeobject"
   ],
   "metadata": {
    "collapsed": false,
    "ExecuteTime": {
     "end_time": "2023-09-26T13:20:33.442966Z",
     "start_time": "2023-09-26T13:20:33.391381900Z"
    }
   },
   "id": "83bd193af80db879"
  },
  {
   "cell_type": "code",
   "execution_count": 95,
   "outputs": [
    {
     "name": "stdout",
     "output_type": "stream",
     "text": [
      "['MTB' 'Rennrad' 'Trecking']\n"
     ]
    }
   ],
   "source": [
    "## One Hot Encoding of the colum \"type\"\n",
    "print(df[\"type\"].unique())\n",
    "df = pd.get_dummies(df, columns=[\"type\"], prefix=[\"type\"])"
   ],
   "metadata": {
    "collapsed": false,
    "ExecuteTime": {
     "end_time": "2023-09-26T13:20:33.467687700Z",
     "start_time": "2023-09-26T13:20:33.423322400Z"
    }
   },
   "id": "1991b6c6637b26cf"
  },
  {
   "cell_type": "code",
   "execution_count": 103,
   "outputs": [
    {
     "data": {
      "text/plain": "array([datetime.time(19, 3, 16), datetime.time(12, 47, 41),\n       datetime.time(13, 52, 1), datetime.time(15, 27, 4),\n       datetime.time(15, 50, 35), datetime.time(16, 8, 29),\n       datetime.time(16, 8, 47), datetime.time(11, 55, 8),\n       datetime.time(12, 13, 4), datetime.time(12, 28, 1),\n       datetime.time(14, 14, 20), datetime.time(11, 9, 55),\n       datetime.time(13, 49, 14), datetime.time(14, 57, 18),\n       datetime.time(16, 11, 44), datetime.time(17, 27, 36),\n       datetime.time(15, 34, 50), datetime.time(16, 49, 39),\n       datetime.time(12, 2), datetime.time(14, 48, 44),\n       datetime.time(18, 39, 3), datetime.time(20, 15, 3),\n       datetime.time(16, 33, 41), datetime.time(18, 16, 34),\n       datetime.time(14, 39, 29), datetime.time(12, 33, 9),\n       datetime.time(14, 58, 21), datetime.time(18, 16, 7),\n       datetime.time(18, 30, 12), datetime.time(16, 32, 50),\n       datetime.time(17, 28, 3), datetime.time(18, 31, 41),\n       datetime.time(18, 20, 24), datetime.time(14, 0, 28),\n       datetime.time(9, 6, 21), datetime.time(18, 34, 17),\n       datetime.time(13, 35, 11), datetime.time(12, 28, 41),\n       datetime.time(16, 56, 39), datetime.time(16, 3, 1),\n       datetime.time(13, 57, 32), datetime.time(18, 0, 11),\n       datetime.time(12, 44, 54), datetime.time(16, 15, 33),\n       datetime.time(14, 0, 1), datetime.time(16, 47, 32),\n       datetime.time(11, 44, 8), datetime.time(13, 0, 50),\n       datetime.time(14, 43, 47), datetime.time(9, 53, 42),\n       datetime.time(14, 18, 12), datetime.time(17, 38, 14),\n       datetime.time(9, 19, 35), datetime.time(19, 3, 59),\n       datetime.time(20, 20, 33), datetime.time(18, 29, 22),\n       datetime.time(14, 13, 55), datetime.time(17, 11, 10),\n       datetime.time(14, 58, 44), datetime.time(17, 10, 56),\n       datetime.time(8, 51, 16), datetime.time(13, 52),\n       datetime.time(8, 53, 36), datetime.time(15, 27, 2),\n       datetime.time(16, 19, 26), datetime.time(15, 1, 7),\n       datetime.time(8, 26), datetime.time(12, 0, 28),\n       datetime.time(16, 2, 53), datetime.time(19, 8, 58),\n       datetime.time(16, 38, 6), datetime.time(17, 48, 52),\n       datetime.time(18, 13, 46), datetime.time(14, 27, 18),\n       datetime.time(10, 44, 8), datetime.time(19, 5, 8),\n       datetime.time(17, 54, 49), datetime.time(13, 7, 9),\n       datetime.time(17, 10, 13), datetime.time(15, 20, 24),\n       datetime.time(18, 48, 21), datetime.time(14, 35, 41),\n       datetime.time(10, 49, 31), datetime.time(13, 42, 42),\n       datetime.time(14, 14, 5), datetime.time(14, 48, 17),\n       datetime.time(16, 5, 16), datetime.time(15, 57, 16),\n       datetime.time(19, 37, 54), datetime.time(17, 32, 46),\n       datetime.time(13, 46, 17), datetime.time(13, 56, 30),\n       datetime.time(15, 16, 58), datetime.time(9, 5, 41),\n       datetime.time(15, 8, 9), datetime.time(12, 42, 59),\n       datetime.time(15, 7, 1), datetime.time(16, 31, 1),\n       datetime.time(18, 56), datetime.time(15, 39, 36),\n       datetime.time(14, 6, 25), datetime.time(18, 17, 51),\n       datetime.time(14, 34, 5), datetime.time(14, 20, 41),\n       datetime.time(15, 51, 32), datetime.time(12, 36, 56),\n       datetime.time(19, 55, 32), datetime.time(9, 23, 26),\n       datetime.time(9, 15, 23), datetime.time(11, 21, 28),\n       datetime.time(12, 43, 55), datetime.time(16, 23, 3),\n       datetime.time(11, 0, 32), datetime.time(15, 2, 56),\n       datetime.time(14, 0, 2), datetime.time(15, 54, 33),\n       datetime.time(12, 14, 13), datetime.time(14, 50, 55),\n       datetime.time(15, 6, 32), datetime.time(13, 15, 43),\n       datetime.time(15, 23, 47), datetime.time(14, 12, 12),\n       datetime.time(8, 6, 43), datetime.time(9, 50, 11),\n       datetime.time(15, 49, 8), datetime.time(14, 35, 58),\n       datetime.time(18, 49, 26), datetime.time(9, 28, 11),\n       datetime.time(16, 48, 50), datetime.time(14, 29, 2),\n       datetime.time(13, 49, 58), datetime.time(13, 11, 38),\n       datetime.time(15, 38, 35), datetime.time(14, 0, 50),\n       datetime.time(15, 20, 29), datetime.time(15, 14, 37),\n       datetime.time(18, 21, 24), datetime.time(19, 36, 51),\n       datetime.time(18, 30, 22), datetime.time(9, 58, 36),\n       datetime.time(16, 7, 57), datetime.time(14, 18, 24),\n       datetime.time(15, 44, 15), datetime.time(12, 0, 14),\n       datetime.time(14, 5, 52), datetime.time(18, 17, 10),\n       datetime.time(17, 1, 13), datetime.time(22, 3, 16),\n       datetime.time(13, 2, 37), datetime.time(18, 32, 46),\n       datetime.time(18, 5, 40), datetime.time(16, 56, 14),\n       datetime.time(15, 22, 32), datetime.time(18, 33, 9),\n       datetime.time(14, 54, 50), datetime.time(17, 48, 30),\n       datetime.time(10, 31, 12), datetime.time(16, 15, 29),\n       datetime.time(18, 48, 28), datetime.time(19, 1, 8),\n       datetime.time(12, 46, 34), datetime.time(14, 3, 50),\n       datetime.time(16, 17, 44), datetime.time(12, 30, 25),\n       datetime.time(14, 21, 16), datetime.time(19, 23, 38),\n       datetime.time(13, 53, 39), datetime.time(17, 1, 45),\n       datetime.time(15, 26, 52), datetime.time(14, 50),\n       datetime.time(13, 23, 9), datetime.time(19, 35, 29),\n       datetime.time(14, 15, 23), datetime.time(16, 42, 1),\n       datetime.time(10, 26, 16), datetime.time(13, 15, 29),\n       datetime.time(10, 22, 26), datetime.time(15, 11, 51),\n       datetime.time(15, 10, 46), datetime.time(10, 52, 17),\n       datetime.time(13, 36, 12), datetime.time(15, 26, 48),\n       datetime.time(14, 16, 1), datetime.time(16, 41, 26),\n       datetime.time(12, 19, 47), datetime.time(16, 23, 28),\n       datetime.time(11, 43, 50), datetime.time(14, 9, 31),\n       datetime.time(16, 15, 22), datetime.time(19, 1, 37),\n       datetime.time(12, 2, 36), datetime.time(11, 58, 37),\n       datetime.time(12, 30), datetime.time(14, 24, 10),\n       datetime.time(13, 23, 6), datetime.time(13, 48, 7),\n       datetime.time(14, 45, 48), datetime.time(12, 39, 49),\n       datetime.time(14, 54, 8), datetime.time(8, 29, 14),\n       datetime.time(15, 41, 58), datetime.time(20, 47, 42),\n       datetime.time(16, 58, 6), datetime.time(15, 19, 40),\n       datetime.time(16, 6, 11), datetime.time(18, 49, 12),\n       datetime.time(17, 4, 11), datetime.time(11, 37, 35),\n       datetime.time(17, 55, 55), datetime.time(16, 20, 39),\n       datetime.time(15, 14, 30), datetime.time(14, 52, 33),\n       datetime.time(17, 29, 15), datetime.time(16, 36, 8),\n       datetime.time(13, 59, 40), datetime.time(14, 7, 57),\n       datetime.time(16, 59, 59), datetime.time(14, 20, 19),\n       datetime.time(18, 13, 52), datetime.time(18, 5, 20),\n       datetime.time(12, 1, 6), datetime.time(15, 0, 20),\n       datetime.time(12, 34, 17), datetime.time(13, 24, 5),\n       datetime.time(13, 28, 44), datetime.time(10, 4, 54),\n       datetime.time(14, 38, 16), datetime.time(15, 36, 44),\n       datetime.time(12, 29, 17), datetime.time(15, 38, 12),\n       datetime.time(18, 19, 33), datetime.time(14, 22, 41),\n       datetime.time(12, 53, 18), datetime.time(13, 10, 16),\n       datetime.time(16, 50, 17), datetime.time(14, 38, 22),\n       datetime.time(9, 28, 47), datetime.time(11, 41, 50),\n       datetime.time(16, 14, 30), datetime.time(17, 40, 5),\n       datetime.time(8, 27, 44), datetime.time(18, 12, 51),\n       datetime.time(17, 27, 52), datetime.time(13, 54, 46),\n       datetime.time(15, 17, 38), datetime.time(19, 34, 37),\n       datetime.time(16, 18, 18), datetime.time(13, 23, 46),\n       datetime.time(21, 34, 48), datetime.time(18, 36, 41),\n       datetime.time(16, 29, 42), datetime.time(13, 34, 41),\n       datetime.time(15, 51, 31), datetime.time(13, 52, 51),\n       datetime.time(16, 3, 24), datetime.time(12, 7, 27),\n       datetime.time(13, 44, 31), datetime.time(12, 22, 20),\n       datetime.time(16, 27, 50), datetime.time(14, 51, 57),\n       datetime.time(17, 48, 28), datetime.time(18, 43, 31),\n       datetime.time(9, 57, 41), datetime.time(13, 54, 38),\n       datetime.time(18, 12, 58), datetime.time(12, 54, 12),\n       datetime.time(13, 46, 30), datetime.time(18, 12, 7),\n       datetime.time(18, 51, 18), datetime.time(18, 30, 15),\n       datetime.time(16, 26, 1), datetime.time(8, 24, 6),\n       datetime.time(19, 7, 59), datetime.time(13, 51, 36),\n       datetime.time(15, 5, 43), datetime.time(14, 12, 25),\n       datetime.time(12, 12, 14), datetime.time(19, 41, 9),\n       datetime.time(15, 54, 13), datetime.time(16, 39, 29),\n       datetime.time(15, 40, 41), datetime.time(20, 3, 24),\n       datetime.time(8, 15, 51), datetime.time(19, 4, 33),\n       datetime.time(8, 21, 5), datetime.time(15, 42, 41),\n       datetime.time(13, 48, 8), datetime.time(15, 17, 5),\n       datetime.time(18, 44, 6), datetime.time(15, 57, 4),\n       datetime.time(15, 21, 25), datetime.time(14, 38, 11),\n       datetime.time(9, 27, 11), datetime.time(9, 7, 41),\n       datetime.time(14, 6, 16), datetime.time(17, 50, 7),\n       datetime.time(15, 54, 56), datetime.time(19, 23, 24),\n       datetime.time(9, 57, 19), datetime.time(13, 24, 29),\n       datetime.time(11, 29, 54), datetime.time(13, 41, 12),\n       datetime.time(17, 49, 11), datetime.time(19, 2, 8),\n       datetime.time(11, 58, 9), datetime.time(14, 32, 50),\n       datetime.time(16, 6, 25), datetime.time(11, 28),\n       datetime.time(14, 34, 38), datetime.time(13, 10, 57),\n       datetime.time(17, 16, 23), datetime.time(18, 26, 49),\n       datetime.time(19, 6, 24), datetime.time(13, 10, 28),\n       datetime.time(16, 19, 16), datetime.time(14, 39, 5),\n       datetime.time(12, 57, 54), datetime.time(7, 49, 14),\n       datetime.time(14, 2, 44), datetime.time(17, 54, 3),\n       datetime.time(18, 13, 17), datetime.time(8, 34, 33),\n       datetime.time(17, 42, 14), datetime.time(10, 19, 38),\n       datetime.time(15, 46, 48), datetime.time(18, 34, 25),\n       datetime.time(16, 56, 36), datetime.time(11, 52, 40),\n       datetime.time(8, 55, 22), datetime.time(8, 31, 30),\n       datetime.time(11, 40, 21), datetime.time(19, 6, 57),\n       datetime.time(18, 11, 36), datetime.time(12, 23, 20),\n       datetime.time(19, 14, 27), datetime.time(14, 38, 53),\n       datetime.time(16, 14, 18), datetime.time(17, 26, 2),\n       datetime.time(8, 59, 6), datetime.time(14, 3, 18),\n       datetime.time(14, 46, 3), datetime.time(13, 7, 1),\n       datetime.time(19, 51, 41), datetime.time(19, 2, 57),\n       datetime.time(19, 8, 33), datetime.time(16, 13, 12),\n       datetime.time(16, 23, 22), datetime.time(15, 18, 59),\n       datetime.time(19, 28, 5), datetime.time(15, 14, 40),\n       datetime.time(13, 29), datetime.time(14, 27, 47),\n       datetime.time(19, 37, 6), datetime.time(18, 58, 39),\n       datetime.time(9, 19, 42), datetime.time(18, 53, 16),\n       datetime.time(7, 32, 40), datetime.time(20, 23, 58),\n       datetime.time(8, 47, 46), datetime.time(19, 1, 5),\n       datetime.time(8, 49, 27), datetime.time(8, 21, 2),\n       datetime.time(19, 6, 22), datetime.time(19, 13, 23),\n       datetime.time(8, 24, 38), datetime.time(20, 35, 42),\n       datetime.time(19, 8, 42), datetime.time(16, 57, 24),\n       datetime.time(8, 55, 59), datetime.time(18, 57, 45),\n       datetime.time(20, 12, 45), datetime.time(19, 21, 34),\n       datetime.time(8, 32, 49), datetime.time(8, 18, 45),\n       datetime.time(8, 51, 39), datetime.time(21, 30, 24),\n       datetime.time(8, 59, 15), datetime.time(8, 9, 23),\n       datetime.time(8, 23, 21), datetime.time(17, 57, 8),\n       datetime.time(19, 2, 53), datetime.time(18, 30, 38),\n       datetime.time(20, 30, 8), datetime.time(8, 22, 22),\n       datetime.time(9, 35, 13), datetime.time(9, 36, 1),\n       datetime.time(16, 59, 17), datetime.time(9, 2, 25),\n       datetime.time(19, 1, 20), datetime.time(9, 8, 53),\n       datetime.time(20, 59, 34), datetime.time(19, 37, 30),\n       datetime.time(20, 6, 37), datetime.time(20, 12, 20),\n       datetime.time(18, 37, 31), datetime.time(19, 13, 30),\n       datetime.time(10, 3, 29), datetime.time(20, 26, 55),\n       datetime.time(21, 14, 39), datetime.time(7, 45, 22),\n       datetime.time(19, 34, 9), datetime.time(8, 56, 13),\n       datetime.time(20, 31, 41), datetime.time(19, 16, 42),\n       datetime.time(19, 32, 9), datetime.time(8, 14, 34),\n       datetime.time(20, 14, 34), datetime.time(18, 47, 26),\n       datetime.time(9, 24, 32), datetime.time(8, 16, 6),\n       datetime.time(20, 25, 42), datetime.time(19, 38, 58),\n       datetime.time(9, 3, 21), datetime.time(21, 10, 39),\n       datetime.time(18, 31, 8), datetime.time(17, 11),\n       datetime.time(19, 30, 57), datetime.time(8, 39, 19),\n       datetime.time(20, 24, 39), datetime.time(20, 26, 48),\n       datetime.time(20, 55, 49), datetime.time(20, 48, 7),\n       datetime.time(19, 43, 32), datetime.time(22, 11, 30),\n       datetime.time(8, 7, 40), datetime.time(8, 17, 50),\n       datetime.time(9, 17, 30), datetime.time(8, 58, 38),\n       datetime.time(20, 37, 14), datetime.time(8, 39, 28),\n       datetime.time(9, 57, 36), datetime.time(20, 0, 21),\n       datetime.time(19, 26, 57), datetime.time(18, 40, 49),\n       datetime.time(9, 29, 40), datetime.time(11, 16, 10),\n       datetime.time(9, 49, 48), datetime.time(9, 28, 5),\n       datetime.time(18, 57, 48), datetime.time(8, 35, 58),\n       datetime.time(18, 19, 51), datetime.time(18, 41, 56),\n       datetime.time(9, 55, 49), datetime.time(8, 51, 15),\n       datetime.time(20, 25, 11), datetime.time(20, 3, 29),\n       datetime.time(9, 7, 40), datetime.time(21, 1, 58),\n       datetime.time(9, 35, 3), datetime.time(8, 5, 56),\n       datetime.time(8, 37, 44), datetime.time(21, 37, 59),\n       datetime.time(8, 45, 54), datetime.time(9, 1, 29),\n       datetime.time(17, 26, 40), datetime.time(8, 12, 51),\n       datetime.time(19, 48, 17), datetime.time(9, 0, 57),\n       datetime.time(7, 59, 17), datetime.time(8, 15, 59),\n       datetime.time(9, 27, 51), datetime.time(8, 35, 42),\n       datetime.time(19, 27, 12), datetime.time(9, 33, 34),\n       datetime.time(19, 44, 38), datetime.time(8, 11, 7),\n       datetime.time(18, 43, 54), datetime.time(20, 16, 25),\n       datetime.time(19, 34, 45), datetime.time(19, 13, 4),\n       datetime.time(9, 2, 46), datetime.time(8, 37, 50),\n       datetime.time(8, 17, 38), datetime.time(9, 26, 50),\n       datetime.time(8, 39, 34), datetime.time(8, 20, 43),\n       datetime.time(9, 2, 45), datetime.time(19, 17, 43),\n       datetime.time(9, 2, 16), datetime.time(21, 1, 33),\n       datetime.time(20, 55, 36), datetime.time(18, 54, 54),\n       datetime.time(20, 42, 20), datetime.time(8, 47, 17),\n       datetime.time(7, 44, 31), datetime.time(9, 9, 27),\n       datetime.time(19, 12, 46), datetime.time(20, 36, 24),\n       datetime.time(8, 47, 59), datetime.time(9, 45, 8),\n       datetime.time(9, 32, 24), datetime.time(19, 35, 22),\n       datetime.time(19, 19, 26), datetime.time(8, 59, 34),\n       datetime.time(9, 37, 24), datetime.time(21, 0, 25),\n       datetime.time(7, 59, 36), datetime.time(8, 25, 57),\n       datetime.time(9, 2, 12), datetime.time(9, 6, 4),\n       datetime.time(8, 56, 20), datetime.time(8, 7, 54),\n       datetime.time(16, 49, 37), datetime.time(18, 58, 18),\n       datetime.time(18, 15, 40), datetime.time(7, 35, 58),\n       datetime.time(19, 14, 23), datetime.time(20, 12, 4),\n       datetime.time(20, 17, 39), datetime.time(8, 30, 58),\n       datetime.time(9, 3, 33), datetime.time(7, 56, 5),\n       datetime.time(8, 57, 16), datetime.time(19, 21, 16),\n       datetime.time(20, 26, 24), datetime.time(9, 21, 57),\n       datetime.time(8, 49, 31), datetime.time(17, 39, 59),\n       datetime.time(8, 16, 20), datetime.time(20, 21, 8),\n       datetime.time(19, 6, 21), datetime.time(8, 44, 10),\n       datetime.time(9, 31, 1), datetime.time(19, 43, 3),\n       datetime.time(17, 4, 50), datetime.time(20, 18, 30),\n       datetime.time(8, 44, 11), datetime.time(20, 33, 9),\n       datetime.time(20, 7, 34), datetime.time(8, 43, 20),\n       datetime.time(9, 1, 1), datetime.time(20, 54, 52),\n       datetime.time(17, 15, 51), datetime.time(19, 3, 48),\n       datetime.time(9, 22, 1), datetime.time(19, 14, 45),\n       datetime.time(18, 55, 49), datetime.time(18, 13, 59),\n       datetime.time(18, 46, 34), datetime.time(19, 22, 44),\n       datetime.time(9, 39, 40), datetime.time(19, 1, 54),\n       datetime.time(9, 29, 7), datetime.time(9, 51, 59),\n       datetime.time(21, 7, 16), datetime.time(8, 30, 38),\n       datetime.time(18, 35, 8), datetime.time(8, 16, 13),\n       datetime.time(19, 28, 26), datetime.time(7, 49, 11),\n       datetime.time(20, 22, 32), datetime.time(9, 21),\n       datetime.time(19, 53, 16), datetime.time(10, 2, 35),\n       datetime.time(20, 8, 41), datetime.time(8, 25, 59),\n       datetime.time(21, 13, 58), datetime.time(8, 6, 3),\n       datetime.time(20, 6), datetime.time(18, 56, 33),\n       datetime.time(9, 6, 54)], dtype=object)"
     },
     "execution_count": 103,
     "metadata": {},
     "output_type": "execute_result"
    }
   ],
   "source": [],
   "metadata": {
    "collapsed": false,
    "ExecuteTime": {
     "end_time": "2023-09-26T13:28:59.829150200Z",
     "start_time": "2023-09-26T13:28:59.793766800Z"
    }
   },
   "id": "6b98dabf0a9e3b10"
  },
  {
   "cell_type": "code",
   "execution_count": null,
   "outputs": [],
   "source": [],
   "metadata": {
    "collapsed": false
   },
   "id": "bff9de9824127fd"
  }
 ],
 "metadata": {
  "kernelspec": {
   "display_name": "Python 3",
   "language": "python",
   "name": "python3"
  },
  "language_info": {
   "codemirror_mode": {
    "name": "ipython",
    "version": 2
   },
   "file_extension": ".py",
   "mimetype": "text/x-python",
   "name": "python",
   "nbconvert_exporter": "python",
   "pygments_lexer": "ipython2",
   "version": "2.7.6"
  }
 },
 "nbformat": 4,
 "nbformat_minor": 5
}
