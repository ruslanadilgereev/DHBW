{
 "cells": [
  {
   "cell_type": "markdown",
   "id": "1e50299c",
   "metadata": {},
   "source": [
    "# Programmentwurf - Maschinelles Lernen\n",
    "\n",
    "Jupiter-Notebook für den Datensatz \"Cycling Data - A\" in Rahmen des Moduls \"Computational Intelligence und Maschinelles Lernen\" von Ruslan Adilgereev und Valentin Langenbacher"
   ]
  },
  {
   "cell_type": "markdown",
   "id": "e736c5ca",
   "metadata": {},
   "source": [
    "## Laden der Daten"
   ]
  },
  {
   "cell_type": "code",
   "execution_count": null,
   "id": "653f48c9b7c4f565",
   "metadata": {
    "ExecuteTime": {
     "end_time": "2023-10-13T12:40:05.114224800Z",
     "start_time": "2023-10-13T12:40:04.365399600Z"
    },
    "collapsed": false
   },
   "outputs": [],
   "source": [
    "# Import von Bibliotheken/Funktionen\n",
    "import pandas as pd\n",
    "import matplotlib.pyplot as plt\n",
    "import seaborn as sns\n",
    "from sklearn.neural_network import MLPRegressor\n",
    "from sklearn.preprocessing import MinMaxScaler, StandardScaler\n",
    "from sklearn.model_selection import train_test_split\n",
    "import scipy.stats as stats\n",
    "from sklearn.metrics import mean_squared_error, r2_score"
   ]
  },
  {
   "cell_type": "code",
   "execution_count": null,
   "id": "6b7262eee04b9b58",
   "metadata": {
    "ExecuteTime": {
     "end_time": "2023-10-13T12:40:05.155787500Z",
     "start_time": "2023-10-13T12:40:05.115223500Z"
    },
    "collapsed": false
   },
   "outputs": [],
   "source": [
    "trainingData = \"bike_rides_001.csv\"\n",
    "df = pd.read_csv(trainingData, sep=\";\")"
   ]
  },
  {
   "cell_type": "markdown",
   "id": "d23a0aa4",
   "metadata": {},
   "source": [
    "## Datenvorbereitung"
   ]
  },
  {
   "cell_type": "code",
   "execution_count": null,
   "id": "e51d0aadbd177c33",
   "metadata": {
    "ExecuteTime": {
     "end_time": "2023-10-13T12:40:05.201390600Z",
     "start_time": "2023-10-13T12:40:05.150796200Z"
    },
    "collapsed": false
   },
   "outputs": [],
   "source": [
    "## ToDo: Check for missing values, scale/norm data, change Datetype, OneHotEncoding, delete Last Row\n",
    "\n",
    "## delete Last Row\n",
    "df = df.drop(df.index[len(df)-1])\n",
    "\n",
    "## select features at least 8 out of 16:\n",
    "## km, maxHm, max_speed, minHm, speed, type, ride_type\n",
    "df = df[['Hm', 'km', 'maxHm', 'max_speed', 'minHm', 'speed', 'type', 'ride_type', 'endtime', 'starttime']]\n",
    "\n",
    "# List of columns to be converted\n",
    "# Convert 'StartTime' and 'EndTime' to datetime format\n",
    "df['starttime'] = pd.to_datetime(df['starttime'], format='%H:%M:%S')\n",
    "df['endtime'] = pd.to_datetime(df['endtime'], format='%H:%M:%S')\n",
    "df['duration_min'] = (df['endtime'] - df['starttime']).dt.total_seconds() / 60.0\n",
    "df = df.drop(['starttime', 'endtime'], axis=1)  # Drop the columns\n",
    "\n",
    "columns_to_convert = ['Hm', 'km', 'maxHm', 'max_speed', 'minHm', 'speed']\n",
    "# Loop through the list and convert each column\n",
    "for col in columns_to_convert:\n",
    "    df[col] = df[col].str.replace(',', '.').astype('float64')\n",
    "\n",
    "# One Hot Encoding - type, ride_type to get numerical values\n",
    "df = pd.get_dummies(df, columns=['type', 'ride_type'])"
   ]
  },
  {
   "cell_type": "markdown",
   "id": "df4b280f",
   "metadata": {},
   "source": [
    "## Skalierung\n",
    "folgende Skalierung wird verwendet zur\n",
    "- verbesserten Konvergenz (schnelleres/ stabileres Training des Modells)\n",
    "- Ausgleichen der Einheiten (Die Merkmale liegen in unterschiedlichen Einheiten und Skalen vor. Die Skalierung hilft dabei, dass die Merkmale gleichgewichtiger in die Modellbildung einfließen)\n",
    "- Vermeidung numerischer Instabilitäten (reduziert das Risiko von Exploding und Vanishing Gradients)"
   ]
  },
  {
   "cell_type": "code",
   "execution_count": null,
   "id": "1582168919a6fc8",
   "metadata": {
    "ExecuteTime": {
     "end_time": "2023-10-13T12:40:05.226304900Z",
     "start_time": "2023-10-13T12:40:05.199398900Z"
    },
    "collapsed": false
   },
   "outputs": [],
   "source": [
    "## Scaling Data\n",
    "\n",
    "columns_features = ['Hm', 'km', 'maxHm', 'max_speed', 'minHm', 'speed', 'duration_min']\n",
    "# Initialize the scalers\n",
    "min_max_scaler = MinMaxScaler()\n",
    "standard_scaler = StandardScaler()\n",
    "\n",
    "# Apply Min-Max scaling (scaling to the range [0,1])\n",
    "\n",
    "df_minmax = pd.DataFrame(min_max_scaler.fit_transform(df[columns_features]), columns=columns_features)\n",
    "\n",
    "# Apply z-Norm scaling (scaling to a mean of 0 and a standard deviation of 1)\n",
    "\n",
    "df_znorm = pd.DataFrame(standard_scaler.fit_transform(df[columns_features]), columns=columns_features)"
   ]
  },
  {
   "cell_type": "markdown",
   "id": "87519b3a",
   "metadata": {},
   "source": [
    "Extrahieren der OneHot-kodierten Spalten zur Kategorisierung der verschiedenen Fahrrad- & Streckenarten:"
   ]
  },
  {
   "cell_type": "code",
   "execution_count": null,
   "id": "3c0d96725e8d5971",
   "metadata": {
    "ExecuteTime": {
     "end_time": "2023-10-13T12:40:05.233173Z",
     "start_time": "2023-10-13T12:40:05.228299100Z"
    },
    "collapsed": false
   },
   "outputs": [],
   "source": [
    "# Extract only the one-hot encoded columns from df_onehot\n",
    "df_onehot_only = df.drop(columns=columns_features)\n",
    "\n",
    "# Concatenate the one-hot encoded columns with the Min-Max scaled DataFrame\n",
    "df = pd.concat([df, df_onehot_only.reset_index(drop=True)], axis=1)"
   ]
  },
  {
   "cell_type": "code",
   "execution_count": null,
   "id": "f74a01bfde8b4704",
   "metadata": {
    "ExecuteTime": {
     "end_time": "2023-10-13T12:49:00.594958800Z",
     "start_time": "2023-10-13T12:49:00.524630900Z"
    },
    "collapsed": false
   },
   "outputs": [],
   "source": [
    "\n",
    "# Features and target variable for Min-Max scaled data\n",
    "# Comment out the one you don't want to use\n",
    "#df = df_minmax\n",
    "df = df_znorm\n",
    "\n",
    "X = df.drop('Hm', axis=1)\n",
    "y = df['Hm']\n",
    "\n",
    "X_train, X_val, y_train, y_val = train_test_split(X, y, test_size=0.2)\n",
    "# Split data"
   ]
  },
  {
   "cell_type": "code",
   "execution_count": null,
   "id": "358777ca55d512d0",
   "metadata": {
    "ExecuteTime": {
     "end_time": "2023-10-13T13:10:25.158578300Z",
     "start_time": "2023-10-13T13:10:24.789881600Z"
    },
    "collapsed": false
   },
   "outputs": [],
   "source": [
    "# Linear Regression\n",
    "from sklearn.linear_model import LinearRegression\n",
    "LinearRegression = LinearRegression()\n",
    "LinearRegression.fit(X_train, y_train)\n",
    "y_pred = LinearRegression.predict(X_val)\n",
    "mse = mean_squared_error(y_val, y_pred)\n",
    "r2 = r2_score(y_val, y_pred)\n",
    "print(f'Mean Squared Error: {mse}')\n",
    "print(f'R2 Score: {r2}')"
   ]
  },
  {
   "cell_type": "code",
   "execution_count": null,
   "id": "dd4ea016a8ce46e8",
   "metadata": {
    "collapsed": false
   },
   "outputs": [],
   "source": [
    "\n",
    "# Initialize the MLP Regressor\n",
    "mlp = MLPRegressor(hidden_layer_sizes=(500, 100, 100), max_iter=1000)\n",
    "\n",
    "# Train the model using data\n",
    "mlp.fit(X_train, y_train)  # Train the model\n",
    "\n",
    "y_pred = mlp.predict(X_val)  # Make predictions on validation set\n",
    "mse = mean_squared_error(y_val, y_pred)  # Evaluate the model\n",
    "mse_score = mlp.score(X_val, y_val)  # Evaluate the model\n",
    "r2 = r2_score(y_val, y_pred)  # Evaluate the model\n",
    "print(f'Mean Squared Error: {mse}')\n",
    "print(f'MLP Score: {mse_score}')\n",
    "print(f'R2 Score: {r2}')"
   ]
  },
  {
   "cell_type": "code",
   "execution_count": null,
   "id": "c99c3ca43323573b",
   "metadata": {
    "ExecuteTime": {
     "end_time": "2023-10-13T12:40:06.378698900Z",
     "start_time": "2023-10-13T12:40:06.133644Z"
    },
    "collapsed": false
   },
   "outputs": [],
   "source": [
    "# Plot the y_pred_znorm and y_val_znorm\n",
    "plt.plot(y_pred, label='Predicted')\n",
    "plt.plot(y_val.values, label='Actual')\n",
    "plt.legend()\n",
    "plt.show()"
   ]
  },
  {
   "cell_type": "code",
   "execution_count": null,
   "id": "7536093e6035c1ee",
   "metadata": {
    "ExecuteTime": {
     "end_time": "2023-10-13T12:40:06.612765900Z",
     "start_time": "2023-10-13T12:40:06.379194300Z"
    },
    "collapsed": false
   },
   "outputs": [],
   "source": [
    "# Plot the y_pred_znorm and y_val_znorm\n",
    "plt.plot(y_pred - y_val.values, label='Error')\n",
    "plt.legend()\n",
    "plt.show()"
   ]
  },
  {
   "cell_type": "code",
   "execution_count": null,
   "id": "4f1580203ad3d97e",
   "metadata": {
    "ExecuteTime": {
     "end_time": "2023-10-13T12:40:07.076910500Z",
     "start_time": "2023-10-13T12:40:06.615483700Z"
    },
    "collapsed": false
   },
   "outputs": [],
   "source": [
    "# Calculate correlation matrix\n",
    "corr = df.corr()\n",
    "\n",
    "# Print correlation values\n",
    "print(df.corr()['Hm'].sort_values(ascending=False))\n",
    "\n",
    "# Plot heatmap\n",
    "plt.figure(figsize=(12, 10))\n",
    "sns.heatmap(corr, annot=True)\n",
    "plt.show()\n"
   ]
  },
  {
   "cell_type": "code",
   "execution_count": null,
   "id": "eb11226d675c50fb",
   "metadata": {
    "ExecuteTime": {
     "end_time": "2023-10-13T12:40:07.366797700Z",
     "start_time": "2023-10-13T12:40:07.133731400Z"
    },
    "collapsed": false
   },
   "outputs": [],
   "source": [
    "# Calculate residuals\n",
    "residuals = y_pred - y_val.values\n",
    "\n",
    "# Create histogram\n",
    "plt.hist(residuals, bins=50, edgecolor='black')\n",
    "plt.title('Histogram of Residuals')\n",
    "plt.xlabel('Residual Value')\n",
    "plt.ylabel('Frequency')\n",
    "plt.show()\n"
   ]
  },
  {
   "cell_type": "code",
   "execution_count": null,
   "id": "d559776c387ec134",
   "metadata": {
    "ExecuteTime": {
     "end_time": "2023-10-13T12:40:07.625371Z",
     "start_time": "2023-10-13T12:40:07.364339300Z"
    },
    "collapsed": false
   },
   "outputs": [],
   "source": [
    "plt.scatter(y_pred, residuals)\n",
    "plt.axhline(y=0, color='r', linestyle='--')\n",
    "plt.title('Residuals vs Fitted Values')\n",
    "plt.xlabel('Fitted Values')\n",
    "plt.ylabel('Residuals')\n",
    "plt.show()"
   ]
  },
  {
   "cell_type": "code",
   "execution_count": null,
   "id": "55be50832cde25a7",
   "metadata": {
    "ExecuteTime": {
     "end_time": "2023-10-13T12:40:07.916315600Z",
     "start_time": "2023-10-13T12:40:07.626999700Z"
    },
    "collapsed": false
   },
   "outputs": [],
   "source": [
    "stats.probplot(residuals, dist=\"norm\", plot=plt)\n",
    "plt.title(\"Normal Q-Q Plot\")\n",
    "plt.show()"
   ]
  },
  {
   "cell_type": "code",
   "execution_count": null,
   "id": "ed58ae9c24c1b559",
   "metadata": {
    "ExecuteTime": {
     "end_time": "2023-10-13T12:40:08.080057900Z",
     "start_time": "2023-10-13T12:40:07.918397500Z"
    },
    "collapsed": false
   },
   "outputs": [],
   "source": [
    "plt.boxplot(residuals)\n",
    "plt.title('Boxplot of Residuals')\n",
    "plt.show()"
   ]
  },
  {
   "cell_type": "code",
   "execution_count": null,
   "id": "da68ee417c28b71c",
   "metadata": {
    "ExecuteTime": {
     "end_time": "2023-10-13T12:40:08.313906700Z",
     "start_time": "2023-10-13T12:40:08.076957200Z"
    },
    "collapsed": false
   },
   "outputs": [],
   "source": [
    "y_pred_train = mlp.predict(X_train)\n",
    "\n",
    "\n",
    "mse_train = mean_squared_error(y_train, y_pred_train)\n",
    "r2_train = r2_score(y_train, y_pred_train)\n",
    "\n",
    "print(f\"Train MSE: {mse_train}\")\n",
    "print(f\"Train R2 Score: {r2_train}\")\n",
    "\n",
    "plt.scatter(y_train, y_pred_train)\n",
    "plt.xlabel('True Values')\n",
    "plt.ylabel('Predictions')\n",
    "plt.title('True vs Predicted Values on Training Data')\n",
    "plt.show()"
   ]
  }
 ],
 "metadata": {
  "kernelspec": {
   "display_name": "Python 3",
   "language": "python",
   "name": "python3"
  },
  "language_info": {
   "codemirror_mode": {
    "name": "ipython",
    "version": 3
   },
   "file_extension": ".py",
   "mimetype": "text/x-python",
   "name": "python",
   "nbconvert_exporter": "python",
   "pygments_lexer": "ipython3",
   "version": "3.9.7"
  }
 },
 "nbformat": 4,
 "nbformat_minor": 5
}
