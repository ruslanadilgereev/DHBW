{
 "cells": [
  {
   "cell_type": "raw",
   "source": [
    "### 1. Importing data"
   ],
   "metadata": {
    "collapsed": false
   },
   "id": "160b51385741b5d1"
  },
  {
   "cell_type": "code",
   "execution_count": 3,
   "outputs": [
    {
     "ename": "ModuleNotFoundError",
     "evalue": "No module named 'torch'",
     "output_type": "error",
     "traceback": [
      "\u001B[1;31m---------------------------------------------------------------------------\u001B[0m",
      "\u001B[1;31mModuleNotFoundError\u001B[0m                       Traceback (most recent call last)",
      "Cell \u001B[1;32mIn[3], line 3\u001B[0m\n\u001B[0;32m      1\u001B[0m \u001B[38;5;28;01mimport\u001B[39;00m \u001B[38;5;21;01mpandas\u001B[39;00m \u001B[38;5;28;01mas\u001B[39;00m \u001B[38;5;21;01mpd\u001B[39;00m\n\u001B[0;32m      2\u001B[0m \u001B[38;5;28;01mimport\u001B[39;00m \u001B[38;5;21;01mnumpy\u001B[39;00m \u001B[38;5;28;01mas\u001B[39;00m \u001B[38;5;21;01mnp\u001B[39;00m\n\u001B[1;32m----> 3\u001B[0m \u001B[38;5;28;01mimport\u001B[39;00m \u001B[38;5;21;01mtorch\u001B[39;00m\n\u001B[0;32m      4\u001B[0m \u001B[38;5;28;01mimport\u001B[39;00m \u001B[38;5;21;01mtorch\u001B[39;00m\u001B[38;5;21;01m.\u001B[39;00m\u001B[38;5;21;01mnn\u001B[39;00m \u001B[38;5;28;01mas\u001B[39;00m \u001B[38;5;21;01mnn\u001B[39;00m\n\u001B[0;32m      5\u001B[0m \u001B[38;5;28;01mimport\u001B[39;00m \u001B[38;5;21;01mtorch\u001B[39;00m\u001B[38;5;21;01m.\u001B[39;00m\u001B[38;5;21;01moptim\u001B[39;00m \u001B[38;5;28;01mas\u001B[39;00m \u001B[38;5;21;01moptim\u001B[39;00m \n",
      "\u001B[1;31mModuleNotFoundError\u001B[0m: No module named 'torch'"
     ]
    }
   ],
   "source": [
    "import pandas as pd\n",
    "import numpy as np\n",
    "import torch\n",
    "import torch.nn as nn\n",
    "import torch.optim as optim "
   ],
   "metadata": {
    "collapsed": false,
    "ExecuteTime": {
     "end_time": "2023-10-01T11:59:29.160244Z",
     "start_time": "2023-10-01T11:59:07.407600700Z"
    }
   },
   "id": "initial_id"
  },
  {
   "cell_type": "code",
   "execution_count": null,
   "outputs": [],
   "source": [
    "df = pd.read_csv('bike_rides_001.csv', delimiter=\";\")\n",
    "np.random.seed(0) # for reproducibility\n",
    "\n",
    "## Delete last row (Column names)\n",
    "df = df.iloc[:-1]"
   ],
   "metadata": {
    "collapsed": false,
    "ExecuteTime": {
     "end_time": "2023-10-01T11:59:29.164243500Z",
     "start_time": "2023-10-01T11:59:29.162242900Z"
    }
   },
   "id": "2e17a320b8951565"
  },
  {
   "cell_type": "code",
   "execution_count": null,
   "outputs": [],
   "source": [
    "# get the number of missing data points per column\n",
    "missing_values_count = df.isnull().sum()  # nothing to do, since no null values"
   ],
   "metadata": {
    "collapsed": false,
    "ExecuteTime": {
     "start_time": "2023-10-01T11:59:29.163243400Z"
    }
   },
   "id": "224014d2a03785e"
  },
  {
   "cell_type": "code",
   "execution_count": null,
   "outputs": [],
   "source": [
    "columns_to_convert = ['Hm', 'km', 'maxHm', 'max_speed', 'minHm', 'speed', 'rider_weight', 'rider_height', 'position_long_max', 'position_long_min', 'position_lat_max', 'position_lat_min']\n",
    "for col in columns_to_convert:\n",
    "    df[col] = df[col].str.replace(',', '.').astype(float)\n",
    "\n",
    "df[\"date_parsed\"] = pd.to_datetime(df[\"date\"], format=\"%d.%m.%Y\")  # parse date as dateobject\n",
    "df[\"starttime_parsed\"] = pd.to_datetime(df[\"starttime\"], format=\"%H:%M:%S\").dt.time  # parse starttime as timeobject\n",
    "df[\"endtime_parsed\"] = pd.to_datetime(df[\"endtime\"], format=\"%H:%M:%S\").dt.time  # parse endtime as timeobject"
   ],
   "metadata": {
    "collapsed": false,
    "ExecuteTime": {
     "start_time": "2023-10-01T11:59:29.164243500Z"
    }
   },
   "id": "83bd193af80db879"
  },
  {
   "cell_type": "code",
   "execution_count": null,
   "outputs": [],
   "source": [
    "## One Hot Encoding of the colum \"type\"\n",
    "print(df[\"type\"].unique())\n",
    "df = pd.get_dummies(df, columns=[\"type\"], prefix=[\"type\"])"
   ],
   "metadata": {
    "collapsed": false,
    "ExecuteTime": {
     "end_time": "2023-10-01T11:59:29.165243500Z",
     "start_time": "2023-10-01T11:59:29.165243500Z"
    }
   },
   "id": "1991b6c6637b26cf"
  },
  {
   "cell_type": "code",
   "execution_count": null,
   "outputs": [],
   "source": [],
   "metadata": {
    "collapsed": false,
    "ExecuteTime": {
     "start_time": "2023-10-01T11:59:29.165243500Z"
    }
   },
   "id": "6b98dabf0a9e3b10"
  },
  {
   "cell_type": "code",
   "execution_count": null,
   "outputs": [],
   "source": [],
   "metadata": {
    "collapsed": false,
    "ExecuteTime": {
     "start_time": "2023-10-01T11:59:29.166243300Z"
    }
   },
   "id": "bff9de9824127fd"
  }
 ],
 "metadata": {
  "kernelspec": {
   "display_name": "Python 3",
   "language": "python",
   "name": "python3"
  },
  "language_info": {
   "codemirror_mode": {
    "name": "ipython",
    "version": 2
   },
   "file_extension": ".py",
   "mimetype": "text/x-python",
   "name": "python",
   "nbconvert_exporter": "python",
   "pygments_lexer": "ipython2",
   "version": "2.7.6"
  }
 },
 "nbformat": 4,
 "nbformat_minor": 5
}
