{
 "cells": [
  {
   "cell_type": "code",
   "execution_count": 1,
   "metadata": {
    "ExecuteTime": {
     "end_time": "2023-10-01T12:39:44.179643300Z",
     "start_time": "2023-10-01T12:39:43.739971200Z"
    }
   },
   "outputs": [
    {
     "name": "stdout",
     "output_type": "stream",
     "text": [
      "C:\\DHBW\\T3M40507_Maschinelles_Lernen_und_Computational Intelligence\n"
     ]
    },
    {
     "data": {
      "text/plain": "<Figure size 640x480 with 1 Axes>",
      "image/png": "[encoded data removed]"
     },
     "metadata": {},
     "output_type": "display_data"
    }
   ],
   "source": [
    "# Introduction to Neural Networks with Sklearn\n",
    "\n",
    "# Prof. Dr. Dirk Reichardt - DHBW\n",
    "\n",
    "# this time we use libraries - (much faster!)\n",
    "\n",
    "\n",
    "import pandas as pd\n",
    "import matplotlib.pyplot as plt\n",
    "import numpy as np\n",
    "import os\n",
    "\n",
    "from math import exp\n",
    "from random import random\n",
    "\n",
    "# Read Sample Training Data \n",
    "\n",
    "trainingData = 'perceptron_testdata_02.csv'\n",
    "\n",
    "print(os.getcwd() )\n",
    "\n",
    "#os.chdir('/Users/dirkreichardt/Downloads/')  # put your own path here ...\n",
    "\n",
    "data = pd.read_csv(trainingData, sep=\";\")    \n",
    "\n",
    "\n",
    "# and visualize it ...\n",
    "\n",
    "pos = (data[\"class\"] == 1)\n",
    "positives = data[pos]\n",
    "positives = np.array(positives)\n",
    "\n",
    "neg = (data[\"class\"] == 0)\n",
    "negatives = data[neg]\n",
    "negatives = np.array(negatives)\n",
    "\n",
    "plt.scatter(positives[:,0],positives[:,1], color = 'green')\n",
    "plt.scatter(negatives[:,0],negatives[:,1], color = 'red')\n",
    "\n",
    "plt.title('Sample Dataset')\n",
    "plt.xlabel('x0')\n",
    "plt.ylabel('x1')\n",
    "\n",
    "plt.show()\n",
    "\n"
   ]
  },
  {
   "cell_type": "code",
   "execution_count": 2,
   "outputs": [
    {
     "data": {
      "text/plain": "    x   y  class\n0   6   9      0\n1  12  11      1\n2  12   4      0\n3  15  10      1\n4   7   4      0",
      "text/html": "<div>\n<style scoped>\n    .dataframe tbody tr th:only-of-type {\n        vertical-align: middle;\n    }\n\n    .dataframe tbody tr th {\n        vertical-align: top;\n    }\n\n    .dataframe thead th {\n        text-align: right;\n    }\n</style>\n<table border=\"1\" class=\"dataframe\">\n  <thead>\n    <tr style=\"text-align: right;\">\n      <th></th>\n      <th>x</th>\n      <th>y</th>\n      <th>class</th>\n    </tr>\n  </thead>\n  <tbody>\n    <tr>\n      <th>0</th>\n      <td>6</td>\n      <td>9</td>\n      <td>0</td>\n    </tr>\n    <tr>\n      <th>1</th>\n      <td>12</td>\n      <td>11</td>\n      <td>1</td>\n    </tr>\n    <tr>\n      <th>2</th>\n      <td>12</td>\n      <td>4</td>\n      <td>0</td>\n    </tr>\n    <tr>\n      <th>3</th>\n      <td>15</td>\n      <td>10</td>\n      <td>1</td>\n    </tr>\n    <tr>\n      <th>4</th>\n      <td>7</td>\n      <td>4</td>\n      <td>0</td>\n    </tr>\n  </tbody>\n</table>\n</div>"
     },
     "execution_count": 2,
     "metadata": {},
     "output_type": "execute_result"
    }
   ],
   "source": [
    "data.head()"
   ],
   "metadata": {
    "collapsed": false,
    "ExecuteTime": {
     "end_time": "2023-10-01T12:39:55.731566800Z",
     "start_time": "2023-10-01T12:39:55.706978100Z"
    }
   }
  },
  {
   "cell_type": "code",
   "execution_count": 8,
   "metadata": {
    "ExecuteTime": {
     "end_time": "2023-09-13T09:23:56.474355900Z",
     "start_time": "2023-09-13T09:23:56.351947600Z"
    }
   },
   "outputs": [
    {
     "name": "stdout",
     "output_type": "stream",
     "text": [
      "[[-0.25   0.125]\n",
      " [ 0.5    0.375]\n",
      " [ 0.5   -0.5  ]\n",
      " [ 0.875  0.25 ]\n",
      " [-0.125 -0.5  ]\n",
      " [-0.125  0.125]\n",
      " [-0.625 -0.875]\n",
      " [ 0.5   -0.75 ]\n",
      " [ 0.875  0.875]\n",
      " [-0.125 -0.25 ]\n",
      " [ 0.875 -0.25 ]\n",
      " [-0.875  0.25 ]\n",
      " [ 0.25  -0.125]\n",
      " [-0.625 -0.25 ]\n",
      " [-1.    -0.5  ]]\n"
     ]
    }
   ],
   "source": [
    "# Simple Neural Network is called \"multi layer perceptron\" (MLP) ... let's import this\n",
    "\n",
    "from sklearn.neural_network import MLPClassifier\n",
    "\n",
    "# preparing the data \n",
    "\n",
    "# first step before we start: preparing the data\n",
    "\n",
    "examples = len(data)\n",
    "x = np.array(pd.read_csv(trainingData, sep=\";\", usecols = ['x','y']))\n",
    "\n",
    "t = np.array(data[\"class\"])\n",
    "\n",
    "\n",
    "minx0 = x[:,0].min()-1\n",
    "minx1 = x[:,1].min()-1\n",
    "\n",
    "maxx0 = x[:,0].max()+1\n",
    "maxx1 = x[:,1].max()+1\n",
    "\n",
    "# normalize to a range between -1,1\n",
    "    \n",
    "x = x.astype(float)\n",
    "\n",
    "x[:,0] = (x[:,0]/maxx0-0.5)*2.0\n",
    "x[:,1] = (x[:,1]/maxx1-0.5)*2.0\n",
    "print(x)\n",
    "# now let's train the classifier\n",
    "\n",
    "nn = MLPClassifier(activation = 'logistic', \n",
    "                   learning_rate = 'constant', \n",
    "                   learning_rate_init = 0.16, \n",
    "                   hidden_layer_sizes = (5,), \n",
    "                   max_iter=3000).fit(x, t)"
   ]
  },
  {
   "cell_type": "code",
   "execution_count": 9,
   "metadata": {
    "ExecuteTime": {
     "end_time": "2023-09-13T09:23:56.475352100Z",
     "start_time": "2023-09-13T09:23:56.413308400Z"
    }
   },
   "outputs": [
    {
     "name": "stdout",
     "output_type": "stream",
     "text": [
      "[0 1 0 1 0 0 0 0 1 0 1 0 0 0 0]\n",
      "[0 1 0 1 0 0 0 0 1 0 1 0 0 0 0]\n"
     ]
    },
    {
     "data": {
      "text/plain": "1.0"
     },
     "execution_count": 9,
     "metadata": {},
     "output_type": "execute_result"
    }
   ],
   "source": [
    "# the network is trained and we can use it\n",
    "\n",
    "print(nn.predict(x))  # testing with the training data\n",
    "print(t)              # the training data results for comparison\n",
    "\n",
    "nn.score(x,t)         # the accuracy value for the learning result\n"
   ]
  },
  {
   "cell_type": "code",
   "execution_count": 9,
   "metadata": {
    "ExecuteTime": {
     "end_time": "2023-09-13T09:23:56.475352100Z",
     "start_time": "2023-09-13T09:23:56.432344100Z"
    }
   },
   "outputs": [],
   "source": []
  }
 ],
 "metadata": {
  "kernelspec": {
   "display_name": "Python 3",
   "language": "python",
   "name": "python3"
  },
  "language_info": {
   "codemirror_mode": {
    "name": "ipython",
    "version": 3
   },
   "file_extension": ".py",
   "mimetype": "text/x-python",
   "name": "python",
   "nbconvert_exporter": "python",
   "pygments_lexer": "ipython3",
   "version": "3.7.4"
  }
 },
 "nbformat": 4,
 "nbformat_minor": 2
}
